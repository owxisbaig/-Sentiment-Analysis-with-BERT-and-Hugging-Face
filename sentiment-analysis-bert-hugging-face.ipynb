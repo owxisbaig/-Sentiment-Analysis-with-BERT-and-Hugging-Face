{
 "cells": [
  {
   "cell_type": "code",
   "execution_count": 1,
   "id": "71cef3b3",
   "metadata": {
    "execution": {
     "iopub.execute_input": "2022-03-28T14:08:09.460093Z",
     "iopub.status.busy": "2022-03-28T14:08:09.458624Z",
     "iopub.status.idle": "2022-03-28T14:08:18.436828Z",
     "shell.execute_reply": "2022-03-28T14:08:18.436018Z",
     "shell.execute_reply.started": "2022-03-28T13:01:02.926722Z"
    },
    "papermill": {
     "duration": 9.036152,
     "end_time": "2022-03-28T14:08:18.437049",
     "exception": false,
     "start_time": "2022-03-28T14:08:09.400897",
     "status": "completed"
    },
    "tags": []
   },
   "outputs": [],
   "source": [
    "!pip install -qq transformers"
   ]
  },
  {
   "cell_type": "markdown",
   "id": "67ee0211",
   "metadata": {
    "papermill": {
     "duration": 0.054348,
     "end_time": "2022-03-28T14:08:18.549304",
     "exception": false,
     "start_time": "2022-03-28T14:08:18.494956",
     "status": "completed"
    },
    "tags": []
   },
   "source": [
    "# BERT (Bidirectional Encoder Representations from Transformers)\n",
    "\n",
    "> * Bidirectional - to understand the text you're looking you'll have to look back (at the previous words) and forward (at the next words)\n",
    "> * The Transformer reads entire sequences of tokens at once. In a sense, the model is non-directional, while LSTMs read sequentially (left-to-right or right-to-left). The attention mechanism allows for learning contextual relations between words (e.g. his in a sentence refers to Jim). \n",
    "> * (Pre-trained) contextualized word embeddings - The ELMO paper introduced a way to encode words based on their meaning/context. Nails has multiple meanings - fingernails and metal nails."
   ]
  },
  {
   "cell_type": "code",
   "execution_count": 2,
   "id": "cd2e9977",
   "metadata": {
    "execution": {
     "iopub.execute_input": "2022-03-28T14:08:18.665473Z",
     "iopub.status.busy": "2022-03-28T14:08:18.664740Z",
     "iopub.status.idle": "2022-03-28T14:08:25.360747Z",
     "shell.execute_reply": "2022-03-28T14:08:25.360266Z",
     "shell.execute_reply.started": "2022-03-28T13:01:11.126880Z"
    },
    "papermill": {
     "duration": 6.758045,
     "end_time": "2022-03-28T14:08:25.360876",
     "exception": false,
     "start_time": "2022-03-28T14:08:18.602831",
     "status": "completed"
    },
    "tags": []
   },
   "outputs": [],
   "source": [
    "import transformers\n",
    "from transformers import BertModel, BertTokenizer, AdamW, get_linear_schedule_with_warmup\n",
    "import torch\n",
    "\n",
    "import numpy as np\n",
    "import pandas as pd\n",
    "import seaborn as sns\n",
    "import matplotlib.pyplot as plt\n",
    "from matplotlib import rc\n",
    "from sklearn.model_selection import train_test_split\n",
    "from sklearn.metrics import confusion_matrix, classification_report\n",
    "from collections import defaultdict\n",
    "from textwrap import wrap\n",
    "\n",
    "from torch import nn, optim\n",
    "from torch.utils.data import Dataset, DataLoader\n",
    "import torch.nn.functional as F\n",
    "import warnings\n",
    "warnings.filterwarnings(\"ignore\")\n",
    "%matplotlib inline"
   ]
  },
  {
   "cell_type": "code",
   "execution_count": 3,
   "id": "b00f24fb",
   "metadata": {
    "execution": {
     "iopub.execute_input": "2022-03-28T14:08:25.518053Z",
     "iopub.status.busy": "2022-03-28T14:08:25.516802Z",
     "iopub.status.idle": "2022-03-28T14:08:25.518767Z",
     "shell.execute_reply": "2022-03-28T14:08:25.519253Z",
     "shell.execute_reply.started": "2022-03-28T13:01:11.140668Z"
    },
    "papermill": {
     "duration": 0.10644,
     "end_time": "2022-03-28T14:08:25.519416",
     "exception": false,
     "start_time": "2022-03-28T14:08:25.412976",
     "status": "completed"
    },
    "tags": []
   },
   "outputs": [],
   "source": [
    "device = torch.device(\"cuda:0\" if torch.cuda.is_available() else \"cpu\")"
   ]
  },
  {
   "cell_type": "code",
   "execution_count": 4,
   "id": "84037722",
   "metadata": {
    "execution": {
     "iopub.execute_input": "2022-03-28T14:08:25.642867Z",
     "iopub.status.busy": "2022-03-28T14:08:25.642266Z",
     "iopub.status.idle": "2022-03-28T14:08:25.964956Z",
     "shell.execute_reply": "2022-03-28T14:08:25.965537Z",
     "shell.execute_reply.started": "2022-03-28T13:01:11.154967Z"
    },
    "papermill": {
     "duration": 0.386881,
     "end_time": "2022-03-28T14:08:25.965704",
     "exception": false,
     "start_time": "2022-03-28T14:08:25.578823",
     "status": "completed"
    },
    "tags": []
   },
   "outputs": [
    {
     "data": {
      "text/html": [
       "<div>\n",
       "<style scoped>\n",
       "    .dataframe tbody tr th:only-of-type {\n",
       "        vertical-align: middle;\n",
       "    }\n",
       "\n",
       "    .dataframe tbody tr th {\n",
       "        vertical-align: top;\n",
       "    }\n",
       "\n",
       "    .dataframe thead th {\n",
       "        text-align: right;\n",
       "    }\n",
       "</style>\n",
       "<table border=\"1\" class=\"dataframe\">\n",
       "  <thead>\n",
       "    <tr style=\"text-align: right;\">\n",
       "      <th></th>\n",
       "      <th>reviewId</th>\n",
       "      <th>userName</th>\n",
       "      <th>userImage</th>\n",
       "      <th>content</th>\n",
       "      <th>score</th>\n",
       "      <th>thumbsUpCount</th>\n",
       "      <th>reviewCreatedVersion</th>\n",
       "      <th>at</th>\n",
       "      <th>replyContent</th>\n",
       "      <th>repliedAt</th>\n",
       "      <th>sortOrder</th>\n",
       "      <th>appId</th>\n",
       "    </tr>\n",
       "  </thead>\n",
       "  <tbody>\n",
       "    <tr>\n",
       "      <th>0</th>\n",
       "      <td>gp:AOqpTOG-nGuDe0w6if400pTvNJnK3MlfnEcJLIB84aR...</td>\n",
       "      <td>Ben Maybe</td>\n",
       "      <td>https://play-lh.googleusercontent.com/a/AATXAJ...</td>\n",
       "      <td>But the paid version for a year and never succ...</td>\n",
       "      <td>1</td>\n",
       "      <td>25</td>\n",
       "      <td>5.15.4.2</td>\n",
       "      <td>2022-03-01 17:18:50</td>\n",
       "      <td>Hi, we're sorry to hear you're experiencing is...</td>\n",
       "      <td>2022-03-01 15:53:58</td>\n",
       "      <td>most_relevant</td>\n",
       "      <td>com.anydo</td>\n",
       "    </tr>\n",
       "    <tr>\n",
       "      <th>1</th>\n",
       "      <td>gp:AOqpTOH85sc18Ajgcgj6-IGmA7Gp34fVsrbyBJ274IZ...</td>\n",
       "      <td>Anthony Duarte</td>\n",
       "      <td>https://play-lh.googleusercontent.com/a-/AOh14...</td>\n",
       "      <td>As a programmer, this is absolutely the most l...</td>\n",
       "      <td>1</td>\n",
       "      <td>67</td>\n",
       "      <td>5.15.3.0</td>\n",
       "      <td>2022-01-22 11:33:48</td>\n",
       "      <td>We are sorry you feel this way! We encourage u...</td>\n",
       "      <td>2022-01-24 09:59:17</td>\n",
       "      <td>most_relevant</td>\n",
       "      <td>com.anydo</td>\n",
       "    </tr>\n",
       "    <tr>\n",
       "      <th>2</th>\n",
       "      <td>gp:AOqpTOGxyMqOStnhbQ_mLfnLUfd1DHAt5uRXqDNArML...</td>\n",
       "      <td>Through Genesis</td>\n",
       "      <td>https://play-lh.googleusercontent.com/a/AATXAJ...</td>\n",
       "      <td>Redoing my review after messaging with the app...</td>\n",
       "      <td>1</td>\n",
       "      <td>77</td>\n",
       "      <td>5.15.3.0</td>\n",
       "      <td>2022-01-22 13:34:47</td>\n",
       "      <td>Any.do is a free app, 90% of the app is comple...</td>\n",
       "      <td>2022-01-24 09:58:12</td>\n",
       "      <td>most_relevant</td>\n",
       "      <td>com.anydo</td>\n",
       "    </tr>\n",
       "    <tr>\n",
       "      <th>3</th>\n",
       "      <td>gp:AOqpTOE3fQQpkWOMbSHW-DwukAnILBbMwBHEcbReiit...</td>\n",
       "      <td>Sydney Stoll</td>\n",
       "      <td>https://play-lh.googleusercontent.com/a/AATXAJ...</td>\n",
       "      <td>I have had this app for almost a year. I was r...</td>\n",
       "      <td>1</td>\n",
       "      <td>79</td>\n",
       "      <td>5.15.2.1</td>\n",
       "      <td>2021-11-07 15:58:27</td>\n",
       "      <td>This could happen if a user pressed on an adve...</td>\n",
       "      <td>2021-11-08 14:36:27</td>\n",
       "      <td>most_relevant</td>\n",
       "      <td>com.anydo</td>\n",
       "    </tr>\n",
       "    <tr>\n",
       "      <th>4</th>\n",
       "      <td>gp:AOqpTOG2AXuKqrR8FIN43a5BGZY4Iha5SFQZZ6o9vOR...</td>\n",
       "      <td>ChuCannon</td>\n",
       "      <td>https://play-lh.googleusercontent.com/a/AATXAJ...</td>\n",
       "      <td>Works decently most of the time, but I've noti...</td>\n",
       "      <td>1</td>\n",
       "      <td>39</td>\n",
       "      <td>5.15.2.2</td>\n",
       "      <td>2021-11-18 17:05:38</td>\n",
       "      <td>Hi, we're sorry to hear you're experiencing is...</td>\n",
       "      <td>2021-11-21 14:48:23</td>\n",
       "      <td>most_relevant</td>\n",
       "      <td>com.anydo</td>\n",
       "    </tr>\n",
       "  </tbody>\n",
       "</table>\n",
       "</div>"
      ],
      "text/plain": [
       "                                            reviewId         userName  \\\n",
       "0  gp:AOqpTOG-nGuDe0w6if400pTvNJnK3MlfnEcJLIB84aR...        Ben Maybe   \n",
       "1  gp:AOqpTOH85sc18Ajgcgj6-IGmA7Gp34fVsrbyBJ274IZ...   Anthony Duarte   \n",
       "2  gp:AOqpTOGxyMqOStnhbQ_mLfnLUfd1DHAt5uRXqDNArML...  Through Genesis   \n",
       "3  gp:AOqpTOE3fQQpkWOMbSHW-DwukAnILBbMwBHEcbReiit...     Sydney Stoll   \n",
       "4  gp:AOqpTOG2AXuKqrR8FIN43a5BGZY4Iha5SFQZZ6o9vOR...        ChuCannon   \n",
       "\n",
       "                                           userImage  \\\n",
       "0  https://play-lh.googleusercontent.com/a/AATXAJ...   \n",
       "1  https://play-lh.googleusercontent.com/a-/AOh14...   \n",
       "2  https://play-lh.googleusercontent.com/a/AATXAJ...   \n",
       "3  https://play-lh.googleusercontent.com/a/AATXAJ...   \n",
       "4  https://play-lh.googleusercontent.com/a/AATXAJ...   \n",
       "\n",
       "                                             content  score  thumbsUpCount  \\\n",
       "0  But the paid version for a year and never succ...      1             25   \n",
       "1  As a programmer, this is absolutely the most l...      1             67   \n",
       "2  Redoing my review after messaging with the app...      1             77   \n",
       "3  I have had this app for almost a year. I was r...      1             79   \n",
       "4  Works decently most of the time, but I've noti...      1             39   \n",
       "\n",
       "  reviewCreatedVersion                   at  \\\n",
       "0             5.15.4.2  2022-03-01 17:18:50   \n",
       "1             5.15.3.0  2022-01-22 11:33:48   \n",
       "2             5.15.3.0  2022-01-22 13:34:47   \n",
       "3             5.15.2.1  2021-11-07 15:58:27   \n",
       "4             5.15.2.2  2021-11-18 17:05:38   \n",
       "\n",
       "                                        replyContent            repliedAt  \\\n",
       "0  Hi, we're sorry to hear you're experiencing is...  2022-03-01 15:53:58   \n",
       "1  We are sorry you feel this way! We encourage u...  2022-01-24 09:59:17   \n",
       "2  Any.do is a free app, 90% of the app is comple...  2022-01-24 09:58:12   \n",
       "3  This could happen if a user pressed on an adve...  2021-11-08 14:36:27   \n",
       "4  Hi, we're sorry to hear you're experiencing is...  2021-11-21 14:48:23   \n",
       "\n",
       "       sortOrder      appId  \n",
       "0  most_relevant  com.anydo  \n",
       "1  most_relevant  com.anydo  \n",
       "2  most_relevant  com.anydo  \n",
       "3  most_relevant  com.anydo  \n",
       "4  most_relevant  com.anydo  "
      ]
     },
     "execution_count": 4,
     "metadata": {},
     "output_type": "execute_result"
    }
   ],
   "source": [
    "df = pd.read_csv(\"../input/google-play-storeappreviews/reviews.csv\")\n",
    "df.head()"
   ]
  },
  {
   "cell_type": "code",
   "execution_count": 5,
   "id": "322003b9",
   "metadata": {
    "execution": {
     "iopub.execute_input": "2022-03-28T14:08:26.097693Z",
     "iopub.status.busy": "2022-03-28T14:08:26.096789Z",
     "iopub.status.idle": "2022-03-28T14:08:26.320607Z",
     "shell.execute_reply": "2022-03-28T14:08:26.320106Z",
     "shell.execute_reply.started": "2022-03-28T13:01:11.392755Z"
    },
    "papermill": {
     "duration": 0.292424,
     "end_time": "2022-03-28T14:08:26.320736",
     "exception": false,
     "start_time": "2022-03-28T14:08:26.028312",
     "status": "completed"
    },
    "tags": []
   },
   "outputs": [
    {
     "data": {
      "image/png": "[encoded data removed]",
      "text/plain": [
       "<Figure size 432x288 with 1 Axes>"
      ]
     },
     "metadata": {
      "needs_background": "light"
     },
     "output_type": "display_data"
    }
   ],
   "source": [
    "sns.countplot(df.score)\n",
    "plt.xlabel('review score');"
   ]
  },
  {
   "cell_type": "code",
   "execution_count": 6,
   "id": "eb09c547",
   "metadata": {
    "execution": {
     "iopub.execute_input": "2022-03-28T14:08:26.448520Z",
     "iopub.status.busy": "2022-03-28T14:08:26.447664Z",
     "iopub.status.idle": "2022-03-28T14:08:26.450099Z",
     "shell.execute_reply": "2022-03-28T14:08:26.449698Z",
     "shell.execute_reply.started": "2022-03-28T13:01:11.604159Z"
    },
    "papermill": {
     "duration": 0.069808,
     "end_time": "2022-03-28T14:08:26.450230",
     "exception": false,
     "start_time": "2022-03-28T14:08:26.380422",
     "status": "completed"
    },
    "tags": []
   },
   "outputs": [],
   "source": [
    "def sentiment(rating):\n",
    "    if rating < 2:\n",
    "        return 0\n",
    "        \n",
    "    if rating==3:\n",
    "        return 1\n",
    "        \n",
    "    if rating > 3:\n",
    "        return 2\n",
    "\n",
    "df['sentiment'] = df.score.apply(sentiment)"
   ]
  },
  {
   "cell_type": "code",
   "execution_count": 7,
   "id": "3904bf69",
   "metadata": {
    "execution": {
     "iopub.execute_input": "2022-03-28T14:08:26.564876Z",
     "iopub.status.busy": "2022-03-28T14:08:26.564323Z",
     "iopub.status.idle": "2022-03-28T14:08:26.735191Z",
     "shell.execute_reply": "2022-03-28T14:08:26.734669Z",
     "shell.execute_reply.started": "2022-03-28T13:01:11.623078Z"
    },
    "papermill": {
     "duration": 0.23064,
     "end_time": "2022-03-28T14:08:26.735328",
     "exception": false,
     "start_time": "2022-03-28T14:08:26.504688",
     "status": "completed"
    },
    "tags": []
   },
   "outputs": [
    {
     "data": {
      "text/plain": [
       "[Text(0, 0, 'negative'), Text(1, 0, 'neutral'), Text(2, 0, 'positive')]"
      ]
     },
     "execution_count": 7,
     "metadata": {},
     "output_type": "execute_result"
    },
    {
     "data": {
      "image/png": "[encoded data removed]",
      "text/plain": [
       "<Figure size 432x288 with 1 Axes>"
      ]
     },
     "metadata": {
      "needs_background": "light"
     },
     "output_type": "display_data"
    }
   ],
   "source": [
    "ax = sns.countplot(df.sentiment)\n",
    "plt.xlabel('reviews')\n",
    "ax.set_xticklabels(['negative', 'neutral', 'positive'])"
   ]
  },
  {
   "cell_type": "markdown",
   "id": "3b956d1c",
   "metadata": {
    "papermill": {
     "duration": 0.054633,
     "end_time": "2022-03-28T14:08:26.849999",
     "exception": false,
     "start_time": "2022-03-28T14:08:26.795366",
     "status": "completed"
    },
    "tags": []
   },
   "source": [
    "# Tokenizing and Data Preprocessing"
   ]
  },
  {
   "cell_type": "code",
   "execution_count": 8,
   "id": "da59c3c6",
   "metadata": {
    "execution": {
     "iopub.execute_input": "2022-03-28T14:08:26.964473Z",
     "iopub.status.busy": "2022-03-28T14:08:26.963627Z",
     "iopub.status.idle": "2022-03-28T14:08:26.965470Z",
     "shell.execute_reply": "2022-03-28T14:08:26.965930Z",
     "shell.execute_reply.started": "2022-03-28T13:01:11.814796Z"
    },
    "papermill": {
     "duration": 0.061011,
     "end_time": "2022-03-28T14:08:26.966077",
     "exception": false,
     "start_time": "2022-03-28T14:08:26.905066",
     "status": "completed"
    },
    "tags": []
   },
   "outputs": [],
   "source": [
    "PRE_TRAINED_MODEL_NAME = 'bert-base-cased'"
   ]
  },
  {
   "cell_type": "code",
   "execution_count": 9,
   "id": "e09e6bf4",
   "metadata": {
    "execution": {
     "iopub.execute_input": "2022-03-28T14:08:27.092506Z",
     "iopub.status.busy": "2022-03-28T14:08:27.090014Z",
     "iopub.status.idle": "2022-03-28T14:08:33.101813Z",
     "shell.execute_reply": "2022-03-28T14:08:33.101353Z",
     "shell.execute_reply.started": "2022-03-28T13:01:11.820534Z"
    },
    "papermill": {
     "duration": 6.076212,
     "end_time": "2022-03-28T14:08:33.101943",
     "exception": false,
     "start_time": "2022-03-28T14:08:27.025731",
     "status": "completed"
    },
    "tags": []
   },
   "outputs": [
    {
     "data": {
      "application/vnd.jupyter.widget-view+json": {
       "model_id": "b9aacf300a8642ab816dda45eb519e4b",
       "version_major": 2,
       "version_minor": 0
      },
      "text/plain": [
       "Downloading:   0%|          | 0.00/29.0 [00:00<?, ?B/s]"
      ]
     },
     "metadata": {},
     "output_type": "display_data"
    },
    {
     "data": {
      "application/vnd.jupyter.widget-view+json": {
       "model_id": "2dab0bcd97974939b989a0bca56bd3f0",
       "version_major": 2,
       "version_minor": 0
      },
      "text/plain": [
       "Downloading:   0%|          | 0.00/208k [00:00<?, ?B/s]"
      ]
     },
     "metadata": {},
     "output_type": "display_data"
    },
    {
     "data": {
      "application/vnd.jupyter.widget-view+json": {
       "model_id": "d9f3c279c8b845f4a76b4321bcba295b",
       "version_major": 2,
       "version_minor": 0
      },
      "text/plain": [
       "Downloading:   0%|          | 0.00/426k [00:00<?, ?B/s]"
      ]
     },
     "metadata": {},
     "output_type": "display_data"
    },
    {
     "data": {
      "application/vnd.jupyter.widget-view+json": {
       "model_id": "fa4ce1bad7924f8f85ca3f6a3287aedd",
       "version_major": 2,
       "version_minor": 0
      },
      "text/plain": [
       "Downloading:   0%|          | 0.00/570 [00:00<?, ?B/s]"
      ]
     },
     "metadata": {},
     "output_type": "display_data"
    }
   ],
   "source": [
    "tokenizer = BertTokenizer.from_pretrained(PRE_TRAINED_MODEL_NAME)"
   ]
  },
  {
   "cell_type": "markdown",
   "id": "24e9cd8e",
   "metadata": {
    "papermill": {
     "duration": 0.061065,
     "end_time": "2022-03-28T14:08:33.227203",
     "exception": false,
     "start_time": "2022-03-28T14:08:33.166138",
     "status": "completed"
    },
    "tags": []
   },
   "source": [
    "***one way***"
   ]
  },
  {
   "cell_type": "code",
   "execution_count": 10,
   "id": "93ce47c2",
   "metadata": {
    "execution": {
     "iopub.execute_input": "2022-03-28T14:08:33.352679Z",
     "iopub.status.busy": "2022-03-28T14:08:33.351903Z",
     "iopub.status.idle": "2022-03-28T14:08:33.354375Z",
     "shell.execute_reply": "2022-03-28T14:08:33.353906Z",
     "shell.execute_reply.started": "2022-03-28T13:01:15.104487Z"
    },
    "papermill": {
     "duration": 0.066429,
     "end_time": "2022-03-28T14:08:33.354491",
     "exception": false,
     "start_time": "2022-03-28T14:08:33.288062",
     "status": "completed"
    },
    "tags": []
   },
   "outputs": [],
   "source": [
    "# sample_txt = 'When was I last outside? I am stuck at home for 2 weeks.'\n",
    "# tokens = tokenizer.tokenize(sample_txt)\n",
    "# token_ids = tokenizer.convert_tokens_to_ids\n",
    "# print(f'Sentence: {sample_txt}\\n')\n",
    "# print(f'Tokens: {tokens}\\n')\n",
    "# print(f'Token IDs: {token_ids}')"
   ]
  },
  {
   "cell_type": "markdown",
   "id": "10d0d7ba",
   "metadata": {
    "papermill": {
     "duration": 0.059821,
     "end_time": "2022-03-28T14:08:33.475025",
     "exception": false,
     "start_time": "2022-03-28T14:08:33.415204",
     "status": "completed"
    },
    "tags": []
   },
   "source": [
    "[SEP] token has to be inserted at the end of a single input. When a task requires more than one input such as NLI and Q-A tasks, [SEP] token helps the model to understand the end of one input and the start of another input in the same sequence input."
   ]
  },
  {
   "cell_type": "code",
   "execution_count": 11,
   "id": "de61d15a",
   "metadata": {
    "execution": {
     "iopub.execute_input": "2022-03-28T14:08:33.599878Z",
     "iopub.status.busy": "2022-03-28T14:08:33.599192Z",
     "iopub.status.idle": "2022-03-28T14:08:33.602052Z",
     "shell.execute_reply": "2022-03-28T14:08:33.602491Z",
     "shell.execute_reply.started": "2022-03-28T13:01:15.112561Z"
    },
    "papermill": {
     "duration": 0.066419,
     "end_time": "2022-03-28T14:08:33.602661",
     "exception": false,
     "start_time": "2022-03-28T14:08:33.536242",
     "status": "completed"
    },
    "tags": []
   },
   "outputs": [
    {
     "data": {
      "text/plain": [
       "('[SEP]', 102)"
      ]
     },
     "execution_count": 11,
     "metadata": {},
     "output_type": "execute_result"
    }
   ],
   "source": [
    "tokenizer.sep_token, tokenizer.sep_token_id"
   ]
  },
  {
   "cell_type": "markdown",
   "id": "fa47b4ea",
   "metadata": {
    "papermill": {
     "duration": 0.056408,
     "end_time": "2022-03-28T14:08:33.715738",
     "exception": false,
     "start_time": "2022-03-28T14:08:33.659330",
     "status": "completed"
    },
    "tags": []
   },
   "source": [
    "[CLS] - we must add this token to the start of each sentence, so BERT knows we're doing classification"
   ]
  },
  {
   "cell_type": "code",
   "execution_count": 12,
   "id": "af495000",
   "metadata": {
    "execution": {
     "iopub.execute_input": "2022-03-28T14:08:33.835935Z",
     "iopub.status.busy": "2022-03-28T14:08:33.835231Z",
     "iopub.status.idle": "2022-03-28T14:08:33.838031Z",
     "shell.execute_reply": "2022-03-28T14:08:33.838468Z",
     "shell.execute_reply.started": "2022-03-28T13:01:15.125003Z"
    },
    "papermill": {
     "duration": 0.065225,
     "end_time": "2022-03-28T14:08:33.838607",
     "exception": false,
     "start_time": "2022-03-28T14:08:33.773382",
     "status": "completed"
    },
    "tags": []
   },
   "outputs": [
    {
     "data": {
      "text/plain": [
       "('[CLS]', 101)"
      ]
     },
     "execution_count": 12,
     "metadata": {},
     "output_type": "execute_result"
    }
   ],
   "source": [
    "tokenizer.cls_token, tokenizer.cls_token_id"
   ]
  },
  {
   "cell_type": "markdown",
   "id": "c4e320c2",
   "metadata": {
    "papermill": {
     "duration": 0.057232,
     "end_time": "2022-03-28T14:08:33.953118",
     "exception": false,
     "start_time": "2022-03-28T14:08:33.895886",
     "status": "completed"
    },
    "tags": []
   },
   "source": [
    "The BERT model receives a fixed length of sentence as input. Usually the maximum length of a sentence depends on the data we are working on. For sentences that are shorter than this maximum length, we will have to add paddings (empty tokens) to the sentences to make up the length. In the original implementation, the token [PAD] is used to represent paddings to the sentence."
   ]
  },
  {
   "cell_type": "code",
   "execution_count": 13,
   "id": "29a17c7f",
   "metadata": {
    "execution": {
     "iopub.execute_input": "2022-03-28T14:08:34.141625Z",
     "iopub.status.busy": "2022-03-28T14:08:34.140586Z",
     "iopub.status.idle": "2022-03-28T14:08:34.144427Z",
     "shell.execute_reply": "2022-03-28T14:08:34.145248Z",
     "shell.execute_reply.started": "2022-03-28T13:01:15.137515Z"
    },
    "papermill": {
     "duration": 0.132216,
     "end_time": "2022-03-28T14:08:34.145505",
     "exception": false,
     "start_time": "2022-03-28T14:08:34.013289",
     "status": "completed"
    },
    "tags": []
   },
   "outputs": [
    {
     "data": {
      "text/plain": [
       "('[PAD]', 0)"
      ]
     },
     "execution_count": 13,
     "metadata": {},
     "output_type": "execute_result"
    }
   ],
   "source": [
    "tokenizer.pad_token, tokenizer.pad_token_id"
   ]
  },
  {
   "cell_type": "markdown",
   "id": "08582318",
   "metadata": {
    "papermill": {
     "duration": 0.095046,
     "end_time": "2022-03-28T14:08:34.338133",
     "exception": false,
     "start_time": "2022-03-28T14:08:34.243087",
     "status": "completed"
    },
    "tags": []
   },
   "source": [
    "***other way***"
   ]
  },
  {
   "cell_type": "code",
   "execution_count": 14,
   "id": "bef2d604",
   "metadata": {
    "execution": {
     "iopub.execute_input": "2022-03-28T14:08:34.550471Z",
     "iopub.status.busy": "2022-03-28T14:08:34.549510Z",
     "iopub.status.idle": "2022-03-28T14:08:54.480334Z",
     "shell.execute_reply": "2022-03-28T14:08:54.479666Z",
     "shell.execute_reply.started": "2022-03-28T13:01:15.145551Z"
    },
    "papermill": {
     "duration": 20.043785,
     "end_time": "2022-03-28T14:08:54.480515",
     "exception": false,
     "start_time": "2022-03-28T14:08:34.436730",
     "status": "completed"
    },
    "tags": []
   },
   "outputs": [
    {
     "name": "stderr",
     "output_type": "stream",
     "text": [
      "Truncation was not explicitly activated but `max_length` is provided a specific value, please use `truncation=True` to explicitly truncate examples to max length. Defaulting to 'longest_first' truncation strategy. If you encode pairs of sequences (GLUE-style) with the tokenizer you can select this strategy more precisely by providing a specific strategy to `truncation`.\n"
     ]
    }
   ],
   "source": [
    "token_lens = []\n",
    "\n",
    "for text in df.content:\n",
    "    tokens = tokenizer.encode(text,max_length=128)\n",
    "    token_lens.append(len(tokens))"
   ]
  },
  {
   "cell_type": "code",
   "execution_count": 15,
   "id": "078369ee",
   "metadata": {
    "execution": {
     "iopub.execute_input": "2022-03-28T14:08:54.632398Z",
     "iopub.status.busy": "2022-03-28T14:08:54.631211Z",
     "iopub.status.idle": "2022-03-28T14:08:55.025256Z",
     "shell.execute_reply": "2022-03-28T14:08:55.024643Z",
     "shell.execute_reply.started": "2022-03-28T13:01:34.551701Z"
    },
    "papermill": {
     "duration": 0.479067,
     "end_time": "2022-03-28T14:08:55.025393",
     "exception": false,
     "start_time": "2022-03-28T14:08:54.546326",
     "status": "completed"
    },
    "tags": []
   },
   "outputs": [
    {
     "data": {
      "image/png": "[encoded data removed]",
      "text/plain": [
       "<Figure size 432x288 with 1 Axes>"
      ]
     },
     "metadata": {
      "needs_background": "light"
     },
     "output_type": "display_data"
    }
   ],
   "source": [
    "sns.distplot(token_lens)\n",
    "plt.xlim([0, 200]);\n",
    "plt.xlabel('Token count');"
   ]
  },
  {
   "cell_type": "markdown",
   "id": "526bc919",
   "metadata": {
    "papermill": {
     "duration": 0.059536,
     "end_time": "2022-03-28T14:08:55.150120",
     "exception": false,
     "start_time": "2022-03-28T14:08:55.090584",
     "status": "completed"
    },
    "tags": []
   },
   "source": [
    "***and the other way***"
   ]
  },
  {
   "cell_type": "code",
   "execution_count": 16,
   "id": "23e19c5e",
   "metadata": {
    "execution": {
     "iopub.execute_input": "2022-03-28T14:08:55.274692Z",
     "iopub.status.busy": "2022-03-28T14:08:55.272917Z",
     "iopub.status.idle": "2022-03-28T14:08:55.276963Z",
     "shell.execute_reply": "2022-03-28T14:08:55.276517Z",
     "shell.execute_reply.started": "2022-03-28T13:01:34.964726Z"
    },
    "papermill": {
     "duration": 0.067512,
     "end_time": "2022-03-28T14:08:55.277128",
     "exception": false,
     "start_time": "2022-03-28T14:08:55.209616",
     "status": "completed"
    },
    "tags": []
   },
   "outputs": [],
   "source": [
    "sample_txt = 'When was I last outside? I am stuck at home for 2 weeks.'"
   ]
  },
  {
   "cell_type": "code",
   "execution_count": 17,
   "id": "e3d405d0",
   "metadata": {
    "execution": {
     "iopub.execute_input": "2022-03-28T14:08:55.407040Z",
     "iopub.status.busy": "2022-03-28T14:08:55.406466Z",
     "iopub.status.idle": "2022-03-28T14:08:55.412258Z",
     "shell.execute_reply": "2022-03-28T14:08:55.412670Z",
     "shell.execute_reply.started": "2022-03-28T13:01:34.970776Z"
    },
    "papermill": {
     "duration": 0.074737,
     "end_time": "2022-03-28T14:08:55.412807",
     "exception": false,
     "start_time": "2022-03-28T14:08:55.338070",
     "status": "completed"
    },
    "tags": []
   },
   "outputs": [
    {
     "data": {
      "text/plain": [
       "dict_keys(['input_ids', 'attention_mask'])"
      ]
     },
     "execution_count": 17,
     "metadata": {},
     "output_type": "execute_result"
    }
   ],
   "source": [
    "encoding = tokenizer.encode_plus(\n",
    "    sample_txt,\n",
    "    max_length = 32,\n",
    "    add_special_tokens = True, # [CLS] and [SEP]\n",
    "    pad_to_max_length = True,\n",
    "    return_token_type_ids = False,\n",
    "    return_attention_mask = True,\n",
    "    return_tensors = 'pt' # pt for pytorch \n",
    ")\n",
    "encoding.keys()"
   ]
  },
  {
   "cell_type": "code",
   "execution_count": 18,
   "id": "94cc8cf5",
   "metadata": {
    "execution": {
     "iopub.execute_input": "2022-03-28T14:08:55.542045Z",
     "iopub.status.busy": "2022-03-28T14:08:55.541503Z",
     "iopub.status.idle": "2022-03-28T14:08:55.553818Z",
     "shell.execute_reply": "2022-03-28T14:08:55.554399Z",
     "shell.execute_reply.started": "2022-03-28T13:01:34.987877Z"
    },
    "papermill": {
     "duration": 0.082535,
     "end_time": "2022-03-28T14:08:55.554578",
     "exception": false,
     "start_time": "2022-03-28T14:08:55.472043",
     "status": "completed"
    },
    "tags": []
   },
   "outputs": [
    {
     "name": "stdout",
     "output_type": "stream",
     "text": [
      "32\n"
     ]
    },
    {
     "data": {
      "text/plain": [
       "tensor([ 101, 1332, 1108,  146, 1314, 1796,  136,  146, 1821, 5342, 1120, 1313,\n",
       "        1111,  123, 2277,  119,  102,    0,    0,    0,    0,    0,    0,    0,\n",
       "           0,    0,    0,    0,    0,    0,    0,    0])"
      ]
     },
     "execution_count": 18,
     "metadata": {},
     "output_type": "execute_result"
    }
   ],
   "source": [
    "# every input is now of size 32 and padded with 0\n",
    "print(len(encoding['input_ids'][0]))\n",
    "encoding['input_ids'][0]"
   ]
  },
  {
   "cell_type": "code",
   "execution_count": 19,
   "id": "16283a67",
   "metadata": {
    "execution": {
     "iopub.execute_input": "2022-03-28T14:08:55.681058Z",
     "iopub.status.busy": "2022-03-28T14:08:55.680434Z",
     "iopub.status.idle": "2022-03-28T14:08:55.685354Z",
     "shell.execute_reply": "2022-03-28T14:08:55.685774Z",
     "shell.execute_reply.started": "2022-03-28T13:01:35.001299Z"
    },
    "papermill": {
     "duration": 0.070976,
     "end_time": "2022-03-28T14:08:55.685922",
     "exception": false,
     "start_time": "2022-03-28T14:08:55.614946",
     "status": "completed"
    },
    "tags": []
   },
   "outputs": [
    {
     "data": {
      "text/plain": [
       "tensor([[1, 1, 1, 1, 1, 1, 1, 1, 1, 1, 1, 1, 1, 1, 1, 1, 1, 0, 0, 0, 0, 0, 0, 0,\n",
       "         0, 0, 0, 0, 0, 0, 0, 0]])"
      ]
     },
     "execution_count": 19,
     "metadata": {},
     "output_type": "execute_result"
    }
   ],
   "source": [
    "encoding['attention_mask']"
   ]
  },
  {
   "cell_type": "markdown",
   "id": "a68175cc",
   "metadata": {
    "papermill": {
     "duration": 0.06144,
     "end_time": "2022-03-28T14:08:55.808396",
     "exception": false,
     "start_time": "2022-03-28T14:08:55.746956",
     "status": "completed"
    },
    "tags": []
   },
   "source": [
    "# Creating Dataset"
   ]
  },
  {
   "cell_type": "code",
   "execution_count": 20,
   "id": "9679bb39",
   "metadata": {
    "execution": {
     "iopub.execute_input": "2022-03-28T14:08:55.935208Z",
     "iopub.status.busy": "2022-03-28T14:08:55.934387Z",
     "iopub.status.idle": "2022-03-28T14:08:55.942598Z",
     "shell.execute_reply": "2022-03-28T14:08:55.942131Z",
     "shell.execute_reply.started": "2022-03-28T13:01:35.009672Z"
    },
    "papermill": {
     "duration": 0.073154,
     "end_time": "2022-03-28T14:08:55.942707",
     "exception": false,
     "start_time": "2022-03-28T14:08:55.869553",
     "status": "completed"
    },
    "tags": []
   },
   "outputs": [],
   "source": [
    "class CustomDataset(Dataset):\n",
    "    def __init__(self, reviews, targets, tokenizer, max_len):\n",
    "        super().__init__()\n",
    "        self.reviews = reviews\n",
    "        self.targets = targets\n",
    "        self.tokenizer = tokenizer\n",
    "        self.max_len = max_len\n",
    "        \n",
    "    def __len__(self):\n",
    "        return len(self.reviews)\n",
    "    \n",
    "    def __getitem__(self,item):\n",
    "        review = self.reviews[item]\n",
    "        target = self.targets[item]\n",
    "        \n",
    "        encoding = tokenizer.encode_plus(\n",
    "            review,\n",
    "            max_length = self.max_len,\n",
    "            add_special_tokens = True, \n",
    "            pad_to_max_length = True,\n",
    "            return_token_type_ids = False,\n",
    "            return_attention_mask = True,\n",
    "            return_tensors = 'pt' \n",
    "        )\n",
    "        \n",
    "        return {\n",
    "            'review': review,\n",
    "            'target': torch.tensor(target,dtype=torch.long),\n",
    "            'input_ids': encoding['input_ids'].flatten(),\n",
    "            'attention_mask': encoding['attention_mask'].flatten()\n",
    "        }\n",
    "        "
   ]
  },
  {
   "cell_type": "code",
   "execution_count": 21,
   "id": "dab28f21",
   "metadata": {
    "execution": {
     "iopub.execute_input": "2022-03-28T14:08:56.124962Z",
     "iopub.status.busy": "2022-03-28T14:08:56.124161Z",
     "iopub.status.idle": "2022-03-28T14:08:56.127037Z",
     "shell.execute_reply": "2022-03-28T14:08:56.130936Z",
     "shell.execute_reply.started": "2022-03-28T13:01:35.023179Z"
    },
    "papermill": {
     "duration": 0.125804,
     "end_time": "2022-03-28T14:08:56.131090",
     "exception": false,
     "start_time": "2022-03-28T14:08:56.005286",
     "status": "completed"
    },
    "tags": []
   },
   "outputs": [
    {
     "data": {
      "text/plain": [
       "(17082, 13)"
      ]
     },
     "execution_count": 21,
     "metadata": {},
     "output_type": "execute_result"
    }
   ],
   "source": [
    "df.shape"
   ]
  },
  {
   "cell_type": "code",
   "execution_count": 22,
   "id": "aa429474",
   "metadata": {
    "execution": {
     "iopub.execute_input": "2022-03-28T14:08:56.333089Z",
     "iopub.status.busy": "2022-03-28T14:08:56.330935Z",
     "iopub.status.idle": "2022-03-28T14:08:56.339521Z",
     "shell.execute_reply": "2022-03-28T14:08:56.340395Z",
     "shell.execute_reply.started": "2022-03-28T13:01:35.034579Z"
    },
    "papermill": {
     "duration": 0.111484,
     "end_time": "2022-03-28T14:08:56.340578",
     "exception": false,
     "start_time": "2022-03-28T14:08:56.229094",
     "status": "completed"
    },
    "tags": []
   },
   "outputs": [],
   "source": [
    "df = df[df['sentiment'].notna()]\n"
   ]
  },
  {
   "cell_type": "code",
   "execution_count": 23,
   "id": "6dba5354",
   "metadata": {
    "execution": {
     "iopub.execute_input": "2022-03-28T14:08:56.544668Z",
     "iopub.status.busy": "2022-03-28T14:08:56.543859Z",
     "iopub.status.idle": "2022-03-28T14:08:56.572130Z",
     "shell.execute_reply": "2022-03-28T14:08:56.571491Z",
     "shell.execute_reply.started": "2022-03-28T13:01:35.050689Z"
    },
    "papermill": {
     "duration": 0.132678,
     "end_time": "2022-03-28T14:08:56.572316",
     "exception": false,
     "start_time": "2022-03-28T14:08:56.439638",
     "status": "completed"
    },
    "tags": []
   },
   "outputs": [
    {
     "data": {
      "text/plain": [
       "reviewId                   0\n",
       "userName                   0\n",
       "userImage                  0\n",
       "content                    0\n",
       "score                      0\n",
       "thumbsUpCount              0\n",
       "reviewCreatedVersion    2179\n",
       "at                         0\n",
       "replyContent            7059\n",
       "repliedAt               7059\n",
       "sortOrder                  0\n",
       "appId                      0\n",
       "sentiment                  0\n",
       "dtype: int64"
      ]
     },
     "execution_count": 23,
     "metadata": {},
     "output_type": "execute_result"
    }
   ],
   "source": [
    "df.isnull().sum()"
   ]
  },
  {
   "cell_type": "code",
   "execution_count": 24,
   "id": "90c26b07",
   "metadata": {
    "execution": {
     "iopub.execute_input": "2022-03-28T14:08:56.721905Z",
     "iopub.status.busy": "2022-03-28T14:08:56.720931Z",
     "iopub.status.idle": "2022-03-28T14:08:56.722609Z",
     "shell.execute_reply": "2022-03-28T14:08:56.723116Z",
     "shell.execute_reply.started": "2022-03-28T13:01:35.077559Z"
    },
    "papermill": {
     "duration": 0.068979,
     "end_time": "2022-03-28T14:08:56.723279",
     "exception": false,
     "start_time": "2022-03-28T14:08:56.654300",
     "status": "completed"
    },
    "tags": []
   },
   "outputs": [],
   "source": [
    "MAX_LEN = 160\n",
    "BATCH_SIZE = 16\n",
    "RANDOM_SEED = 2002\n",
    "EPOCHS = 10"
   ]
  },
  {
   "cell_type": "code",
   "execution_count": 25,
   "id": "dbc8479c",
   "metadata": {
    "execution": {
     "iopub.execute_input": "2022-03-28T14:08:56.856824Z",
     "iopub.status.busy": "2022-03-28T14:08:56.856058Z",
     "iopub.status.idle": "2022-03-28T14:08:56.864728Z",
     "shell.execute_reply": "2022-03-28T14:08:56.864281Z",
     "shell.execute_reply.started": "2022-03-28T13:01:35.084145Z"
    },
    "papermill": {
     "duration": 0.077786,
     "end_time": "2022-03-28T14:08:56.864851",
     "exception": false,
     "start_time": "2022-03-28T14:08:56.787065",
     "status": "completed"
    },
    "tags": []
   },
   "outputs": [],
   "source": [
    "df_train, df_test = train_test_split(df, test_size=0.2, random_state=RANDOM_SEED)\n",
    "df_val, df_test = train_test_split(df_test, test_size=0.5, random_state=RANDOM_SEED)"
   ]
  },
  {
   "cell_type": "code",
   "execution_count": 26,
   "id": "96eb04c9",
   "metadata": {
    "execution": {
     "iopub.execute_input": "2022-03-28T14:08:56.996090Z",
     "iopub.status.busy": "2022-03-28T14:08:56.995420Z",
     "iopub.status.idle": "2022-03-28T14:08:56.998374Z",
     "shell.execute_reply": "2022-03-28T14:08:56.998794Z",
     "shell.execute_reply.started": "2022-03-28T13:01:35.105597Z"
    },
    "papermill": {
     "duration": 0.071214,
     "end_time": "2022-03-28T14:08:56.998947",
     "exception": false,
     "start_time": "2022-03-28T14:08:56.927733",
     "status": "completed"
    },
    "tags": []
   },
   "outputs": [
    {
     "data": {
      "text/plain": [
       "((11491, 13), (1436, 13), (1437, 13))"
      ]
     },
     "execution_count": 26,
     "metadata": {},
     "output_type": "execute_result"
    }
   ],
   "source": [
    "df_train.shape, df_val.shape, df_test.shape"
   ]
  },
  {
   "cell_type": "code",
   "execution_count": 27,
   "id": "501d76ba",
   "metadata": {
    "execution": {
     "iopub.execute_input": "2022-03-28T14:08:57.128895Z",
     "iopub.status.busy": "2022-03-28T14:08:57.128130Z",
     "iopub.status.idle": "2022-03-28T14:08:57.130233Z",
     "shell.execute_reply": "2022-03-28T14:08:57.130672Z",
     "shell.execute_reply.started": "2022-03-28T13:01:35.114631Z"
    },
    "papermill": {
     "duration": 0.069083,
     "end_time": "2022-03-28T14:08:57.130808",
     "exception": false,
     "start_time": "2022-03-28T14:08:57.061725",
     "status": "completed"
    },
    "tags": []
   },
   "outputs": [],
   "source": [
    "ds = CustomDataset(\n",
    "    reviews=df.content.to_numpy(),\n",
    "    targets=df.sentiment.to_numpy(),\n",
    "    tokenizer=tokenizer,\n",
    "    max_len=MAX_LEN\n",
    "    )"
   ]
  },
  {
   "cell_type": "markdown",
   "id": "ef645d88",
   "metadata": {
    "papermill": {
     "duration": 0.061337,
     "end_time": "2022-03-28T14:08:57.253693",
     "exception": false,
     "start_time": "2022-03-28T14:08:57.192356",
     "status": "completed"
    },
    "tags": []
   },
   "source": [
    "# DataLoading"
   ]
  },
  {
   "cell_type": "code",
   "execution_count": 28,
   "id": "58ae8819",
   "metadata": {
    "execution": {
     "iopub.execute_input": "2022-03-28T14:08:57.383758Z",
     "iopub.status.busy": "2022-03-28T14:08:57.382852Z",
     "iopub.status.idle": "2022-03-28T14:08:57.384557Z",
     "shell.execute_reply": "2022-03-28T14:08:57.385052Z",
     "shell.execute_reply.started": "2022-03-28T13:01:35.140394Z"
    },
    "papermill": {
     "duration": 0.069128,
     "end_time": "2022-03-28T14:08:57.385210",
     "exception": false,
     "start_time": "2022-03-28T14:08:57.316082",
     "status": "completed"
    },
    "tags": []
   },
   "outputs": [],
   "source": [
    "def Data_Loader(df, tokenizer, max_len, batch_size):\n",
    "    ds = CustomDataset(\n",
    "    reviews=df.content.to_numpy(),\n",
    "    targets=df.sentiment.to_numpy(),\n",
    "    tokenizer=tokenizer,\n",
    "    max_len=max_len\n",
    "    )\n",
    "\n",
    "    return DataLoader(\n",
    "                ds,\n",
    "                batch_size=batch_size,\n",
    "                num_workers=4\n",
    "             )"
   ]
  },
  {
   "cell_type": "code",
   "execution_count": 29,
   "id": "208fd706",
   "metadata": {
    "execution": {
     "iopub.execute_input": "2022-03-28T14:08:57.513882Z",
     "iopub.status.busy": "2022-03-28T14:08:57.513061Z",
     "iopub.status.idle": "2022-03-28T14:08:57.514995Z",
     "shell.execute_reply": "2022-03-28T14:08:57.515503Z",
     "shell.execute_reply.started": "2022-03-28T13:01:35.159917Z"
    },
    "papermill": {
     "duration": 0.06931,
     "end_time": "2022-03-28T14:08:57.515637",
     "exception": false,
     "start_time": "2022-03-28T14:08:57.446327",
     "status": "completed"
    },
    "tags": []
   },
   "outputs": [],
   "source": [
    "train_data_loader = Data_Loader(df_train, tokenizer, MAX_LEN, BATCH_SIZE)\n",
    "val_data_loader = Data_Loader(df_val, tokenizer, MAX_LEN, BATCH_SIZE)\n",
    "test_data_loader = Data_Loader(df_test, tokenizer, MAX_LEN, BATCH_SIZE)"
   ]
  },
  {
   "cell_type": "code",
   "execution_count": 30,
   "id": "e56ea570",
   "metadata": {
    "execution": {
     "iopub.execute_input": "2022-03-28T14:08:57.645141Z",
     "iopub.status.busy": "2022-03-28T14:08:57.644597Z",
     "iopub.status.idle": "2022-03-28T14:08:57.926450Z",
     "shell.execute_reply": "2022-03-28T14:08:57.925721Z",
     "shell.execute_reply.started": "2022-03-28T13:01:35.171141Z"
    },
    "papermill": {
     "duration": 0.349367,
     "end_time": "2022-03-28T14:08:57.926623",
     "exception": false,
     "start_time": "2022-03-28T14:08:57.577256",
     "status": "completed"
    },
    "tags": []
   },
   "outputs": [
    {
     "name": "stdout",
     "output_type": "stream",
     "text": [
      "dict_keys(['review', 'target', 'input_ids', 'attention_mask'])\n"
     ]
    }
   ],
   "source": [
    "data = next(iter(train_data_loader))\n",
    "print(data.keys())\n"
   ]
  },
  {
   "cell_type": "code",
   "execution_count": 31,
   "id": "d701e548",
   "metadata": {
    "execution": {
     "iopub.execute_input": "2022-03-28T14:08:58.058489Z",
     "iopub.status.busy": "2022-03-28T14:08:58.057749Z",
     "iopub.status.idle": "2022-03-28T14:08:58.060721Z",
     "shell.execute_reply": "2022-03-28T14:08:58.061307Z",
     "shell.execute_reply.started": "2022-03-28T13:01:35.629260Z"
    },
    "papermill": {
     "duration": 0.071018,
     "end_time": "2022-03-28T14:08:58.061490",
     "exception": false,
     "start_time": "2022-03-28T14:08:57.990472",
     "status": "completed"
    },
    "tags": []
   },
   "outputs": [
    {
     "name": "stdout",
     "output_type": "stream",
     "text": [
      "torch.Size([16, 160])\n",
      "torch.Size([16, 160])\n",
      "torch.Size([16])\n"
     ]
    }
   ],
   "source": [
    "print(data['input_ids'].shape)\n",
    "print(data['attention_mask'].shape)\n",
    "print(data['target'].shape)"
   ]
  },
  {
   "cell_type": "markdown",
   "id": "d1a563eb",
   "metadata": {
    "papermill": {
     "duration": 0.06152,
     "end_time": "2022-03-28T14:08:58.185946",
     "exception": false,
     "start_time": "2022-03-28T14:08:58.124426",
     "status": "completed"
    },
    "tags": []
   },
   "source": [
    "# Sentiment Classification with BERT and Hugging Face"
   ]
  },
  {
   "cell_type": "markdown",
   "id": "2fd94432",
   "metadata": {
    "papermill": {
     "duration": 0.062245,
     "end_time": "2022-03-28T14:08:58.310107",
     "exception": false,
     "start_time": "2022-03-28T14:08:58.247862",
     "status": "completed"
    },
    "tags": []
   },
   "source": [
    "***Lets try it on sample text***"
   ]
  },
  {
   "cell_type": "code",
   "execution_count": 32,
   "id": "fe24b0f4",
   "metadata": {
    "execution": {
     "iopub.execute_input": "2022-03-28T14:08:58.444661Z",
     "iopub.status.busy": "2022-03-28T14:08:58.444022Z",
     "iopub.status.idle": "2022-03-28T14:09:16.173537Z",
     "shell.execute_reply": "2022-03-28T14:09:16.172780Z",
     "shell.execute_reply.started": "2022-03-28T13:01:35.638028Z"
    },
    "papermill": {
     "duration": 17.800638,
     "end_time": "2022-03-28T14:09:16.173700",
     "exception": false,
     "start_time": "2022-03-28T14:08:58.373062",
     "status": "completed"
    },
    "tags": []
   },
   "outputs": [
    {
     "data": {
      "application/vnd.jupyter.widget-view+json": {
       "model_id": "69cbd7f95c084cabba7a4f934deef4c0",
       "version_major": 2,
       "version_minor": 0
      },
      "text/plain": [
       "Downloading:   0%|          | 0.00/416M [00:00<?, ?B/s]"
      ]
     },
     "metadata": {},
     "output_type": "display_data"
    },
    {
     "name": "stderr",
     "output_type": "stream",
     "text": [
      "Some weights of the model checkpoint at bert-base-cased were not used when initializing BertModel: ['cls.predictions.transform.LayerNorm.bias', 'cls.predictions.decoder.weight', 'cls.predictions.transform.dense.weight', 'cls.predictions.bias', 'cls.predictions.transform.dense.bias', 'cls.predictions.transform.LayerNorm.weight', 'cls.seq_relationship.weight', 'cls.seq_relationship.bias']\n",
      "- This IS expected if you are initializing BertModel from the checkpoint of a model trained on another task or with another architecture (e.g. initializing a BertForSequenceClassification model from a BertForPreTraining model).\n",
      "- This IS NOT expected if you are initializing BertModel from the checkpoint of a model that you expect to be exactly identical (initializing a BertForSequenceClassification model from a BertForSequenceClassification model).\n"
     ]
    }
   ],
   "source": [
    "bert_model = BertModel.from_pretrained(PRE_TRAINED_MODEL_NAME)"
   ]
  },
  {
   "cell_type": "markdown",
   "id": "a7924ad6",
   "metadata": {
    "papermill": {
     "duration": 0.06231,
     "end_time": "2022-03-28T14:09:16.299224",
     "exception": false,
     "start_time": "2022-03-28T14:09:16.236914",
     "status": "completed"
    },
    "tags": []
   },
   "source": [
    "***The last_hidden_state is a sequence of hidden states of the last layer of the model. Obtaining the pooled_output is done by applying the BertPooler on last_hidden_state:***"
   ]
  },
  {
   "cell_type": "code",
   "execution_count": 33,
   "id": "f026b021",
   "metadata": {
    "execution": {
     "iopub.execute_input": "2022-03-28T14:09:16.431813Z",
     "iopub.status.busy": "2022-03-28T14:09:16.431126Z",
     "iopub.status.idle": "2022-03-28T14:09:16.653571Z",
     "shell.execute_reply": "2022-03-28T14:09:16.652588Z",
     "shell.execute_reply.started": "2022-03-28T13:01:38.431415Z"
    },
    "papermill": {
     "duration": 0.292227,
     "end_time": "2022-03-28T14:09:16.653731",
     "exception": false,
     "start_time": "2022-03-28T14:09:16.361504",
     "status": "completed"
    },
    "tags": []
   },
   "outputs": [],
   "source": [
    "last_hidden_state, pooled_output = bert_model(\n",
    "                                        input_ids = encoding['input_ids'],\n",
    "                                        attention_mask = encoding['attention_mask'],\n",
    "                                        return_dict=False\n",
    "                                    )"
   ]
  },
  {
   "cell_type": "code",
   "execution_count": 34,
   "id": "ebbda347",
   "metadata": {
    "execution": {
     "iopub.execute_input": "2022-03-28T14:09:16.805077Z",
     "iopub.status.busy": "2022-03-28T14:09:16.804367Z",
     "iopub.status.idle": "2022-03-28T14:09:16.807271Z",
     "shell.execute_reply": "2022-03-28T14:09:16.807752Z",
     "shell.execute_reply.started": "2022-03-28T13:01:38.591947Z"
    },
    "papermill": {
     "duration": 0.078932,
     "end_time": "2022-03-28T14:09:16.807896",
     "exception": false,
     "start_time": "2022-03-28T14:09:16.728964",
     "status": "completed"
    },
    "tags": []
   },
   "outputs": [
    {
     "data": {
      "text/plain": [
       "torch.Size([1, 32, 768])"
      ]
     },
     "execution_count": 34,
     "metadata": {},
     "output_type": "execute_result"
    }
   ],
   "source": [
    "last_hidden_state.shape # 1 example , 32 elements after padding and 768 hidden units"
   ]
  },
  {
   "cell_type": "code",
   "execution_count": 35,
   "id": "1af290ad",
   "metadata": {
    "execution": {
     "iopub.execute_input": "2022-03-28T14:09:16.947335Z",
     "iopub.status.busy": "2022-03-28T14:09:16.946717Z",
     "iopub.status.idle": "2022-03-28T14:09:16.949543Z",
     "shell.execute_reply": "2022-03-28T14:09:16.949974Z",
     "shell.execute_reply.started": "2022-03-28T13:01:38.603100Z"
    },
    "papermill": {
     "duration": 0.072707,
     "end_time": "2022-03-28T14:09:16.950111",
     "exception": false,
     "start_time": "2022-03-28T14:09:16.877404",
     "status": "completed"
    },
    "tags": []
   },
   "outputs": [
    {
     "data": {
      "text/plain": [
       "torch.Size([1, 768])"
      ]
     },
     "execution_count": 35,
     "metadata": {},
     "output_type": "execute_result"
    }
   ],
   "source": [
    "pooled_output.shape # pooling procedure on 32 elements"
   ]
  },
  {
   "cell_type": "code",
   "execution_count": 36,
   "id": "8f71b46e",
   "metadata": {
    "execution": {
     "iopub.execute_input": "2022-03-28T14:09:17.108140Z",
     "iopub.status.busy": "2022-03-28T14:09:17.107400Z",
     "iopub.status.idle": "2022-03-28T14:09:17.110601Z",
     "shell.execute_reply": "2022-03-28T14:09:17.111080Z",
     "shell.execute_reply.started": "2022-03-28T13:01:38.612858Z"
    },
    "papermill": {
     "duration": 0.084183,
     "end_time": "2022-03-28T14:09:17.111264",
     "exception": false,
     "start_time": "2022-03-28T14:09:17.027081",
     "status": "completed"
    },
    "tags": []
   },
   "outputs": [
    {
     "data": {
      "text/plain": [
       "768"
      ]
     },
     "execution_count": 36,
     "metadata": {},
     "output_type": "execute_result"
    }
   ],
   "source": [
    "bert_model.config.hidden_size"
   ]
  },
  {
   "cell_type": "markdown",
   "id": "c737f752",
   "metadata": {
    "papermill": {
     "duration": 0.070035,
     "end_time": "2022-03-28T14:09:17.254615",
     "exception": false,
     "start_time": "2022-03-28T14:09:17.184580",
     "status": "completed"
    },
    "tags": []
   },
   "source": [
    "# Building Sentiment Classifier"
   ]
  },
  {
   "cell_type": "code",
   "execution_count": 37,
   "id": "da2e1c43",
   "metadata": {
    "execution": {
     "iopub.execute_input": "2022-03-28T14:09:17.402656Z",
     "iopub.status.busy": "2022-03-28T14:09:17.401707Z",
     "iopub.status.idle": "2022-03-28T14:09:17.403531Z",
     "shell.execute_reply": "2022-03-28T14:09:17.404043Z",
     "shell.execute_reply.started": "2022-03-28T13:01:38.622938Z"
    },
    "papermill": {
     "duration": 0.079261,
     "end_time": "2022-03-28T14:09:17.404214",
     "exception": false,
     "start_time": "2022-03-28T14:09:17.324953",
     "status": "completed"
    },
    "tags": []
   },
   "outputs": [],
   "source": [
    "class SentimentClassifier(nn.Module):\n",
    "    def __init__(self,n_classes):\n",
    "        super().__init__()\n",
    "        self.bert = BertModel.from_pretrained(PRE_TRAINED_MODEL_NAME)\n",
    "        self.dropout = nn.Dropout(p=0.2)\n",
    "        self.linear = nn.Linear(self.bert.config.hidden_size, n_classes)\n",
    "        self.softmax = nn.Softmax(dim=1)\n",
    "        \n",
    "    def forward(self, input_ids, attention_mask):\n",
    "        _, pooled_output = self.bert(\n",
    "                                input_ids = input_ids,\n",
    "                                attention_mask = attention_mask,\n",
    "                                return_dict = False\n",
    "                            )\n",
    "        output = self.dropout(pooled_output)\n",
    "        output = self.linear(output)\n",
    "        return self.softmax(output)"
   ]
  },
  {
   "cell_type": "code",
   "execution_count": 38,
   "id": "5b0de36c",
   "metadata": {
    "execution": {
     "iopub.execute_input": "2022-03-28T14:09:17.554537Z",
     "iopub.status.busy": "2022-03-28T14:09:17.551186Z",
     "iopub.status.idle": "2022-03-28T14:09:24.908548Z",
     "shell.execute_reply": "2022-03-28T14:09:24.907659Z",
     "shell.execute_reply.started": "2022-03-28T13:01:38.635648Z"
    },
    "papermill": {
     "duration": 7.43455,
     "end_time": "2022-03-28T14:09:24.908690",
     "exception": false,
     "start_time": "2022-03-28T14:09:17.474140",
     "status": "completed"
    },
    "tags": []
   },
   "outputs": [
    {
     "name": "stderr",
     "output_type": "stream",
     "text": [
      "Some weights of the model checkpoint at bert-base-cased were not used when initializing BertModel: ['cls.predictions.transform.LayerNorm.bias', 'cls.predictions.decoder.weight', 'cls.predictions.transform.dense.weight', 'cls.predictions.bias', 'cls.predictions.transform.dense.bias', 'cls.predictions.transform.LayerNorm.weight', 'cls.seq_relationship.weight', 'cls.seq_relationship.bias']\n",
      "- This IS expected if you are initializing BertModel from the checkpoint of a model trained on another task or with another architecture (e.g. initializing a BertForSequenceClassification model from a BertForPreTraining model).\n",
      "- This IS NOT expected if you are initializing BertModel from the checkpoint of a model that you expect to be exactly identical (initializing a BertForSequenceClassification model from a BertForSequenceClassification model).\n"
     ]
    }
   ],
   "source": [
    "model = SentimentClassifier(n_classes = 3)\n",
    "model = model.to(device)"
   ]
  },
  {
   "cell_type": "code",
   "execution_count": 39,
   "id": "c1d19467",
   "metadata": {
    "execution": {
     "iopub.execute_input": "2022-03-28T14:09:25.047137Z",
     "iopub.status.busy": "2022-03-28T14:09:25.046246Z",
     "iopub.status.idle": "2022-03-28T14:09:25.052884Z",
     "shell.execute_reply": "2022-03-28T14:09:25.052388Z",
     "shell.execute_reply.started": "2022-03-28T13:01:41.580807Z"
    },
    "papermill": {
     "duration": 0.079039,
     "end_time": "2022-03-28T14:09:25.053006",
     "exception": false,
     "start_time": "2022-03-28T14:09:24.973967",
     "status": "completed"
    },
    "tags": []
   },
   "outputs": [],
   "source": [
    "optimizer = AdamW(model.parameters(),lr=2e-5,correct_bias=False)\n",
    "\n",
    "total_steps = len(train_data_loader) * EPOCHS\n",
    "\n",
    "scheduler = get_linear_schedule_with_warmup(\n",
    "                optimizer,\n",
    "                num_warmup_steps = 0,\n",
    "                num_training_steps = total_steps \n",
    "            )\n",
    "\n",
    "loss_fn = nn.CrossEntropyLoss().to(device)"
   ]
  },
  {
   "cell_type": "code",
   "execution_count": 40,
   "id": "d42b881a",
   "metadata": {
    "execution": {
     "iopub.execute_input": "2022-03-28T14:09:25.209335Z",
     "iopub.status.busy": "2022-03-28T14:09:25.208367Z",
     "iopub.status.idle": "2022-03-28T14:09:25.210439Z",
     "shell.execute_reply": "2022-03-28T14:09:25.210915Z",
     "shell.execute_reply.started": "2022-03-28T13:01:41.599122Z"
    },
    "papermill": {
     "duration": 0.085321,
     "end_time": "2022-03-28T14:09:25.211065",
     "exception": false,
     "start_time": "2022-03-28T14:09:25.125744",
     "status": "completed"
    },
    "tags": []
   },
   "outputs": [],
   "source": [
    "def train_model(model, data_loader, loss_fn, optimizer, device, scheduler, n_examples):\n",
    "    model = model.train()\n",
    "    losses = []\n",
    "    correct_preds = 0\n",
    "    \n",
    "    for data in data_loader:\n",
    "        input_ids = data['input_ids'].to(device)\n",
    "        attention_mask = data['attention_mask'].to(device)\n",
    "        targets = data['target'].to(device)\n",
    "        \n",
    "        outputs = model(input_ids,attention_mask)\n",
    "        _, preds = torch.max(outputs,dim=1)\n",
    "        loss = loss_fn(outputs,targets)\n",
    "        correct_preds += torch.sum(preds==targets)\n",
    "        losses.append(loss.item())\n",
    "        \n",
    "        loss.backward()\n",
    "        nn.utils.clip_grad_norm(model.parameters(),max_norm=1.0) #  We're avoiding exploding gradients by clipping the gradients of the model using clip_gradnorm.\n",
    "        optimizer.step()\n",
    "        scheduler.step()\n",
    "        optimizer.zero_grad()\n",
    "        \n",
    "    return correct_preds.double() / n_examples, np.mean(losses)\n",
    "\n",
    "        "
   ]
  },
  {
   "cell_type": "code",
   "execution_count": 41,
   "id": "626bc3d6",
   "metadata": {
    "execution": {
     "iopub.execute_input": "2022-03-28T14:09:25.367697Z",
     "iopub.status.busy": "2022-03-28T14:09:25.366669Z",
     "iopub.status.idle": "2022-03-28T14:09:25.368730Z",
     "shell.execute_reply": "2022-03-28T14:09:25.369213Z",
     "shell.execute_reply.started": "2022-03-28T13:01:41.610087Z"
    },
    "papermill": {
     "duration": 0.085055,
     "end_time": "2022-03-28T14:09:25.369378",
     "exception": false,
     "start_time": "2022-03-28T14:09:25.284323",
     "status": "completed"
    },
    "tags": []
   },
   "outputs": [],
   "source": [
    "def eval_model(model, data_loader, loss_fn, device, n_examples):\n",
    "    model = model.eval()\n",
    "    losses = []\n",
    "    correct_preds = 0\n",
    "    \n",
    "    with torch.no_grad():\n",
    "        for data in data_loader:\n",
    "            input_ids = data['input_ids'].to(device)\n",
    "            attention_mask = data['attention_mask'].to(device)\n",
    "            targets = data['target'].to(device)\n",
    "\n",
    "            outputs = model(input_ids,attention_mask)\n",
    "            _, preds = torch.max(outputs,dim=1)\n",
    "            loss = loss_fn(outputs,targets)\n",
    "            correct_preds += torch.sum(preds==targets)\n",
    "            losses.append(loss.item())\n",
    "            \n",
    "    return correct_preds.double() / n_examples, np.mean(losses)\n"
   ]
  },
  {
   "cell_type": "code",
   "execution_count": 42,
   "id": "59a99a0e",
   "metadata": {
    "execution": {
     "iopub.execute_input": "2022-03-28T14:09:25.525608Z",
     "iopub.status.busy": "2022-03-28T14:09:25.523902Z",
     "iopub.status.idle": "2022-03-28T14:44:51.355605Z",
     "shell.execute_reply": "2022-03-28T14:44:51.355047Z",
     "shell.execute_reply.started": "2022-03-28T13:01:41.624812Z"
    },
    "papermill": {
     "duration": 2125.912133,
     "end_time": "2022-03-28T14:44:51.355752",
     "exception": false,
     "start_time": "2022-03-28T14:09:25.443619",
     "status": "completed"
    },
    "tags": []
   },
   "outputs": [
    {
     "name": "stdout",
     "output_type": "stream",
     "text": [
      "Epoch 1/10\n",
      "----------\n",
      "Train loss 0.8895378269472772 accuracy 0.6472891828387434\n",
      "Val   loss 0.8509273495939043 accuracy 0.6908077994428969\n",
      "\n",
      "\n",
      "Epoch 2/10\n",
      "----------\n",
      "Train loss 0.7862448751180328 accuracy 0.7575493864763728\n",
      "Val   loss 0.816420171658198 accuracy 0.7325905292479109\n",
      "\n",
      "\n",
      "Epoch 3/10\n",
      "----------\n",
      "Train loss 0.7348239190555249 accuracy 0.81341919763293\n",
      "Val   loss 0.8232506129476759 accuracy 0.7249303621169917\n",
      "\n",
      "\n",
      "Epoch 4/10\n",
      "----------\n",
      "Train loss 0.7103045571994383 accuracy 0.8397876599077538\n",
      "Val   loss 0.808188118537267 accuracy 0.7437325905292479\n",
      "\n",
      "\n",
      "Epoch 5/10\n",
      "----------\n",
      "Train loss 0.6937786942562905 accuracy 0.8571055608737272\n",
      "Val   loss 0.7955854958958096 accuracy 0.7534818941504178\n",
      "\n",
      "\n",
      "Epoch 6/10\n",
      "----------\n",
      "Train loss 0.6844588421979435 accuracy 0.8660690975546079\n",
      "Val   loss 0.7986241181691488 accuracy 0.7534818941504178\n",
      "\n",
      "\n",
      "Epoch 7/10\n",
      "----------\n",
      "Train loss 0.6769924323814137 accuracy 0.8735532155600034\n",
      "Val   loss 0.7991188453303443 accuracy 0.7506963788300836\n",
      "\n",
      "\n",
      "Epoch 8/10\n",
      "----------\n",
      "Train loss 0.670027951786349 accuracy 0.8809503089374292\n",
      "Val   loss 0.788244284523858 accuracy 0.7618384401114207\n",
      "\n",
      "\n",
      "Epoch 9/10\n",
      "----------\n",
      "Train loss 0.6658583255238593 accuracy 0.8852145157079453\n",
      "Val   loss 0.7841546257336934 accuracy 0.766016713091922\n",
      "\n",
      "\n",
      "Epoch 10/10\n",
      "----------\n",
      "Train loss 0.6618157570484782 accuracy 0.8893046732225219\n",
      "Val   loss 0.784818661875195 accuracy 0.7646239554317549\n",
      "\n",
      "\n",
      "CPU times: user 34min 41s, sys: 8.72 s, total: 34min 50s\n",
      "Wall time: 35min 25s\n"
     ]
    }
   ],
   "source": [
    "%%time\n",
    "history = defaultdict(list)\n",
    "best_accuracy = 0\n",
    "\n",
    "for epoch in range(EPOCHS):\n",
    "    print(f'Epoch {epoch + 1}/{EPOCHS}')\n",
    "    print('-' * 10)\n",
    "    \n",
    "    train_acc, train_loss = train_model(model,train_data_loader, loss_fn, optimizer, device, scheduler, len(df_train))\n",
    "    print(f'Train loss {train_loss} accuracy {train_acc}')\n",
    "    \n",
    "    val_acc, val_loss = eval_model(model, val_data_loader, loss_fn, device, len(df_val))\n",
    "    print(f'Val   loss {val_loss} accuracy {val_acc}')\n",
    "    print('\\n')\n",
    "    \n",
    "    history['train_acc'].append(train_acc)\n",
    "    history['train_loss'].append(train_loss)\n",
    "    history['val_acc'].append(val_acc)\n",
    "    history['val_loss'].append(val_loss)\n",
    "    \n",
    "    if val_acc > best_accuracy:\n",
    "#         torch.save(model.state_dict(),'best_model_state.bin')\n",
    "        best_accuracy = val_acc"
   ]
  },
  {
   "cell_type": "markdown",
   "id": "88073c26",
   "metadata": {
    "papermill": {
     "duration": 0.069587,
     "end_time": "2022-03-28T14:44:51.496579",
     "exception": false,
     "start_time": "2022-03-28T14:44:51.426992",
     "status": "completed"
    },
    "tags": []
   },
   "source": [
    "***Increase number of epochs to get better results***"
   ]
  },
  {
   "cell_type": "code",
   "execution_count": 43,
   "id": "30a930d6",
   "metadata": {
    "execution": {
     "iopub.execute_input": "2022-03-28T14:44:51.641879Z",
     "iopub.status.busy": "2022-03-28T14:44:51.639198Z",
     "iopub.status.idle": "2022-03-28T14:44:51.644961Z",
     "shell.execute_reply": "2022-03-28T14:44:51.644536Z",
     "shell.execute_reply.started": "2022-03-28T13:38:20.331894Z"
    },
    "papermill": {
     "duration": 0.078969,
     "end_time": "2022-03-28T14:44:51.645068",
     "exception": false,
     "start_time": "2022-03-28T14:44:51.566099",
     "status": "completed"
    },
    "tags": []
   },
   "outputs": [],
   "source": [
    "train_acc = [acc.cpu() for acc in history['train_acc']]\n",
    "val_acc = [acc.cpu() for acc in history['val_acc']]"
   ]
  },
  {
   "cell_type": "code",
   "execution_count": 44,
   "id": "fa78d1e4",
   "metadata": {
    "execution": {
     "iopub.execute_input": "2022-03-28T14:44:51.802203Z",
     "iopub.status.busy": "2022-03-28T14:44:51.791080Z",
     "iopub.status.idle": "2022-03-28T14:44:52.003140Z",
     "shell.execute_reply": "2022-03-28T14:44:52.002715Z",
     "shell.execute_reply.started": "2022-03-28T13:59:07.886276Z"
    },
    "papermill": {
     "duration": 0.288988,
     "end_time": "2022-03-28T14:44:52.003293",
     "exception": false,
     "start_time": "2022-03-28T14:44:51.714305",
     "status": "completed"
    },
    "tags": []
   },
   "outputs": [
    {
     "data": {
      "text/plain": [
       "(0.0, 1.0)"
      ]
     },
     "execution_count": 44,
     "metadata": {},
     "output_type": "execute_result"
    },
    {
     "data": {
      "image/png": "[encoded data removed]",
      "text/plain": [
       "<Figure size 576x432 with 1 Axes>"
      ]
     },
     "metadata": {
      "needs_background": "light"
     },
     "output_type": "display_data"
    }
   ],
   "source": [
    "plt.figure(figsize = (8,6))\n",
    "plt.plot(train_acc, label='train accuracy')\n",
    "plt.plot(val_acc, label='validation accuracy')\n",
    "\n",
    "plt.title('Training history')\n",
    "plt.ylabel('Accuracy')\n",
    "plt.xlabel('Epoch')\n",
    "plt.legend()\n",
    "plt.ylim([0, 1])"
   ]
  },
  {
   "cell_type": "code",
   "execution_count": 45,
   "id": "1d3e5eae",
   "metadata": {
    "execution": {
     "iopub.execute_input": "2022-03-28T14:44:52.246829Z",
     "iopub.status.busy": "2022-03-28T14:44:52.245993Z",
     "iopub.status.idle": "2022-03-28T14:44:52.255790Z",
     "shell.execute_reply": "2022-03-28T14:44:52.256927Z",
     "shell.execute_reply.started": "2022-03-28T14:03:39.141801Z"
    },
    "papermill": {
     "duration": 0.133016,
     "end_time": "2022-03-28T14:44:52.257128",
     "exception": false,
     "start_time": "2022-03-28T14:44:52.124112",
     "status": "completed"
    },
    "tags": []
   },
   "outputs": [],
   "source": [
    "def get_preds(model, data_loader):\n",
    "    model = model.eval()\n",
    "    \n",
    "    review_texts = []\n",
    "    predictions = []\n",
    "    prediction_probs = []\n",
    "    real_values = []\n",
    "    \n",
    "    with torch.no_grad():\n",
    "        for data in data_loader:\n",
    "            reviews = data['review']\n",
    "            input_ids = data['input_ids'].to(device)\n",
    "            attention_mask = data['attention_mask'].to(device)\n",
    "            targets = data['target'].to(device)\n",
    "            \n",
    "            review_texts.extend(reviews)\n",
    "            real_values.extend(targets)\n",
    "            \n",
    "            outputs = model(input_ids,attention_mask)\n",
    "            _, preds = torch.max(outputs,dim=1)\n",
    "            \n",
    "            prediction_probs.extend(outputs)\n",
    "            predictions.extend(preds)\n",
    "            \n",
    "        predictions = torch.stack(predictions).cpu()\n",
    "        prediction_probs = torch.stack(prediction_probs).cpu()\n",
    "        real_values = torch.stack(real_values).cpu()\n",
    "            \n",
    "            \n",
    "    return review_texts, predictions, prediction_probs, real_values\n",
    "            "
   ]
  },
  {
   "cell_type": "code",
   "execution_count": 46,
   "id": "5d9acbe3",
   "metadata": {
    "execution": {
     "iopub.execute_input": "2022-03-28T14:44:52.494955Z",
     "iopub.status.busy": "2022-03-28T14:44:52.494210Z",
     "iopub.status.idle": "2022-03-28T14:45:01.022443Z",
     "shell.execute_reply": "2022-03-28T14:45:01.021931Z",
     "shell.execute_reply.started": "2022-03-28T14:03:39.507928Z"
    },
    "papermill": {
     "duration": 8.649465,
     "end_time": "2022-03-28T14:45:01.022594",
     "exception": false,
     "start_time": "2022-03-28T14:44:52.373129",
     "status": "completed"
    },
    "tags": []
   },
   "outputs": [],
   "source": [
    "review_texts, predictions, prediction_probs, real_values = get_preds(model,test_data_loader)"
   ]
  },
  {
   "cell_type": "code",
   "execution_count": 47,
   "id": "0fe7c1f2",
   "metadata": {
    "execution": {
     "iopub.execute_input": "2022-03-28T14:45:01.199847Z",
     "iopub.status.busy": "2022-03-28T14:45:01.199074Z",
     "iopub.status.idle": "2022-03-28T14:45:01.201661Z",
     "shell.execute_reply": "2022-03-28T14:45:01.201218Z",
     "shell.execute_reply.started": "2022-03-28T14:03:48.194249Z"
    },
    "papermill": {
     "duration": 0.079144,
     "end_time": "2022-03-28T14:45:01.201770",
     "exception": false,
     "start_time": "2022-03-28T14:45:01.122626",
     "status": "completed"
    },
    "tags": []
   },
   "outputs": [],
   "source": [
    "class_names = ['negative','neutral','positive']"
   ]
  },
  {
   "cell_type": "code",
   "execution_count": 48,
   "id": "610514ea",
   "metadata": {
    "execution": {
     "iopub.execute_input": "2022-03-28T14:45:01.348875Z",
     "iopub.status.busy": "2022-03-28T14:45:01.348277Z",
     "iopub.status.idle": "2022-03-28T14:45:01.367115Z",
     "shell.execute_reply": "2022-03-28T14:45:01.367734Z",
     "shell.execute_reply.started": "2022-03-28T14:04:07.762236Z"
    },
    "papermill": {
     "duration": 0.095622,
     "end_time": "2022-03-28T14:45:01.367914",
     "exception": false,
     "start_time": "2022-03-28T14:45:01.272292",
     "status": "completed"
    },
    "tags": []
   },
   "outputs": [
    {
     "name": "stdout",
     "output_type": "stream",
     "text": [
      "review_texts:  Not bad\n",
      "predictions:  neutral\n",
      "prediction_probs:  tensor([2.4137e-05, 9.9993e-01, 4.2055e-05])\n",
      "real_values:  neutral\n",
      "\n",
      "\n",
      "review_texts:  Impossible for custom skills to influence multiple characteristics\n",
      "predictions:  neutral\n",
      "prediction_probs:  tensor([2.2660e-05, 9.9996e-01, 2.1047e-05])\n",
      "real_values:  neutral\n",
      "\n",
      "\n",
      "review_texts:  I just cannot be notified. Please. Fix it. So I could give 5 stars.\n",
      "predictions:  negative\n",
      "prediction_probs:  tensor([9.9994e-01, 1.9388e-05, 3.9770e-05])\n",
      "real_values:  negative\n",
      "\n",
      "\n"
     ]
    }
   ],
   "source": [
    "for i in range(3):\n",
    "    print('review_texts: ',review_texts[i])\n",
    "    print('predictions: ',class_names[predictions[i]])\n",
    "    print('prediction_probs: ',prediction_probs[i])\n",
    "    print('real_values: ',class_names[real_values[i]])\n",
    "    print('\\n')"
   ]
  },
  {
   "cell_type": "code",
   "execution_count": 49,
   "id": "b7ce759e",
   "metadata": {
    "execution": {
     "iopub.execute_input": "2022-03-28T14:45:01.515033Z",
     "iopub.status.busy": "2022-03-28T14:45:01.514493Z",
     "iopub.status.idle": "2022-03-28T14:45:01.525441Z",
     "shell.execute_reply": "2022-03-28T14:45:01.524821Z",
     "shell.execute_reply.started": "2022-03-28T14:04:12.848025Z"
    },
    "papermill": {
     "duration": 0.085971,
     "end_time": "2022-03-28T14:45:01.525584",
     "exception": false,
     "start_time": "2022-03-28T14:45:01.439613",
     "status": "completed"
    },
    "tags": []
   },
   "outputs": [
    {
     "name": "stdout",
     "output_type": "stream",
     "text": [
      "              precision    recall  f1-score   support\n",
      "\n",
      "    negative       0.79      0.72      0.75       299\n",
      "     neutral       0.73      0.74      0.73       559\n",
      "    positive       0.81      0.84      0.82       579\n",
      "\n",
      "    accuracy                           0.77      1437\n",
      "   macro avg       0.78      0.76      0.77      1437\n",
      "weighted avg       0.77      0.77      0.77      1437\n",
      "\n"
     ]
    }
   ],
   "source": [
    "print(classification_report(real_values, predictions, target_names=['negative','neutral','positive']))"
   ]
  },
  {
   "cell_type": "code",
   "execution_count": 50,
   "id": "cb461a67",
   "metadata": {
    "execution": {
     "iopub.execute_input": "2022-03-28T14:45:01.695404Z",
     "iopub.status.busy": "2022-03-28T14:45:01.691090Z",
     "iopub.status.idle": "2022-03-28T14:45:01.966613Z",
     "shell.execute_reply": "2022-03-28T14:45:01.965934Z",
     "shell.execute_reply.started": "2022-03-28T14:04:13.511713Z"
    },
    "papermill": {
     "duration": 0.361011,
     "end_time": "2022-03-28T14:45:01.966738",
     "exception": false,
     "start_time": "2022-03-28T14:45:01.605727",
     "status": "completed"
    },
    "tags": []
   },
   "outputs": [
    {
     "data": {
      "image/png": "[encoded data removed]",
      "text/plain": [
       "<Figure size 864x720 with 2 Axes>"
      ]
     },
     "metadata": {
      "needs_background": "light"
     },
     "output_type": "display_data"
    }
   ],
   "source": [
    "def show_confusion_matrix(confusion_matrix):\n",
    "    plt.figure(figsize = (12,10))\n",
    "    hmap = sns.heatmap(confusion_matrix, annot=True, fmt=\"d\", cmap=\"Greens\")\n",
    "    hmap.yaxis.set_ticklabels(hmap.yaxis.get_ticklabels(), rotation=0, ha='right')\n",
    "    hmap.xaxis.set_ticklabels(hmap.xaxis.get_ticklabels(), rotation=30, ha='right')\n",
    "    plt.ylabel('True sentiment')\n",
    "    plt.xlabel('Predicted sentiment');\n",
    "\n",
    "cm = confusion_matrix(real_values, predictions)\n",
    "df_cm = pd.DataFrame(cm, index=class_names, columns=class_names)\n",
    "show_confusion_matrix(df_cm)"
   ]
  },
  {
   "cell_type": "markdown",
   "id": "f45cd476",
   "metadata": {
    "papermill": {
     "duration": 0.075178,
     "end_time": "2022-03-28T14:45:02.118938",
     "exception": false,
     "start_time": "2022-03-28T14:45:02.043760",
     "status": "completed"
    },
    "tags": []
   },
   "source": [
    "# Predicting new text sample"
   ]
  },
  {
   "cell_type": "code",
   "execution_count": 51,
   "id": "cc63e4e8",
   "metadata": {
    "execution": {
     "iopub.execute_input": "2022-03-28T14:45:02.272393Z",
     "iopub.status.busy": "2022-03-28T14:45:02.271503Z",
     "iopub.status.idle": "2022-03-28T14:45:02.273918Z",
     "shell.execute_reply": "2022-03-28T14:45:02.273380Z",
     "shell.execute_reply.started": "2022-03-28T14:04:18.760076Z"
    },
    "papermill": {
     "duration": 0.081505,
     "end_time": "2022-03-28T14:45:02.274029",
     "exception": false,
     "start_time": "2022-03-28T14:45:02.192524",
     "status": "completed"
    },
    "tags": []
   },
   "outputs": [],
   "source": [
    "review_text = 'This notebook is very helpful.'"
   ]
  },
  {
   "cell_type": "code",
   "execution_count": 52,
   "id": "ed796204",
   "metadata": {
    "execution": {
     "iopub.execute_input": "2022-03-28T14:45:02.428438Z",
     "iopub.status.busy": "2022-03-28T14:45:02.427613Z",
     "iopub.status.idle": "2022-03-28T14:45:02.430114Z",
     "shell.execute_reply": "2022-03-28T14:45:02.429701Z",
     "shell.execute_reply.started": "2022-03-28T14:04:20.709759Z"
    },
    "papermill": {
     "duration": 0.082082,
     "end_time": "2022-03-28T14:45:02.430250",
     "exception": false,
     "start_time": "2022-03-28T14:45:02.348168",
     "status": "completed"
    },
    "tags": []
   },
   "outputs": [],
   "source": [
    "encoded_review = tokenizer.encode_plus(\n",
    "  review_text,\n",
    "  max_length=MAX_LEN,\n",
    "  add_special_tokens=True,\n",
    "  return_token_type_ids=False,\n",
    "  pad_to_max_length=True,\n",
    "  return_attention_mask=True,\n",
    "  return_tensors='pt',\n",
    ")"
   ]
  },
  {
   "cell_type": "code",
   "execution_count": 53,
   "id": "c0b98c83",
   "metadata": {
    "execution": {
     "iopub.execute_input": "2022-03-28T14:45:02.580609Z",
     "iopub.status.busy": "2022-03-28T14:45:02.579745Z",
     "iopub.status.idle": "2022-03-28T14:45:02.602919Z",
     "shell.execute_reply": "2022-03-28T14:45:02.603514Z",
     "shell.execute_reply.started": "2022-03-28T14:04:21.115489Z"
    },
    "papermill": {
     "duration": 0.101645,
     "end_time": "2022-03-28T14:45:02.603687",
     "exception": false,
     "start_time": "2022-03-28T14:45:02.502042",
     "status": "completed"
    },
    "tags": []
   },
   "outputs": [
    {
     "name": "stdout",
     "output_type": "stream",
     "text": [
      "Review text: This notebook is very helpful.\n",
      "Sentiment  : positive\n"
     ]
    }
   ],
   "source": [
    "input_ids = encoded_review['input_ids'].to(device)\n",
    "attention_mask = encoded_review['attention_mask'].to(device)\n",
    "\n",
    "output = model(input_ids, attention_mask)\n",
    "_, prediction = torch.max(output, dim=1)\n",
    "\n",
    "print(f'Review text: {review_text}')\n",
    "print(f'Sentiment  : {class_names[prediction]}')"
   ]
  },
  {
   "cell_type": "code",
   "execution_count": null,
   "id": "7b0c9b16",
   "metadata": {
    "papermill": {
     "duration": 0.072899,
     "end_time": "2022-03-28T14:45:02.750538",
     "exception": false,
     "start_time": "2022-03-28T14:45:02.677639",
     "status": "completed"
    },
    "tags": []
   },
   "outputs": [],
   "source": []
  }
 ],
 "metadata": {
  "kernelspec": {
   "display_name": "Python 3",
   "language": "python",
   "name": "python3"
  },
  "language_info": {
   "codemirror_mode": {
    "name": "ipython",
    "version": 3
   },
   "file_extension": ".py",
   "mimetype": "text/x-python",
   "name": "python",
   "nbconvert_exporter": "python",
   "pygments_lexer": "ipython3",
   "version": "3.7.12"
  },
  "papermill": {
   "default_parameters": {},
   "duration": 2224.322617,
   "end_time": "2022-03-28T14:45:05.645804",
   "environment_variables": {},
   "exception": null,
   "input_path": "__notebook__.ipynb",
   "output_path": "__notebook__.ipynb",
   "parameters": {},
   "start_time": "2022-03-28T14:08:01.323187",
   "version": "2.3.3"
  },
  "widgets": {
   "application/vnd.jupyter.widget-state+json": {
    "state": {
     "02f6f9eee88a4814878d7a5fd2947ff5": {
      "model_module": "@jupyter-widgets/controls",
      "model_module_version": "1.5.0",
      "model_name": "ProgressStyleModel",
      "state": {
       "_model_module": "@jupyter-widgets/controls",
       "_model_module_version": "1.5.0",
       "_model_name": "ProgressStyleModel",
       "_view_count": null,
       "_view_module": "@jupyter-widgets/base",
       "_view_module_version": "1.2.0",
       "_view_name": "StyleView",
       "bar_color": null,
       "description_width": ""
      }
     },
     "03336db2dd504620848cbc557a16fb47": {
      "model_module": "@jupyter-widgets/controls",
      "model_module_version": "1.5.0",
      "model_name": "FloatProgressModel",
      "state": {
       "_dom_classes": [],
       "_model_module": "@jupyter-widgets/controls",
       "_model_module_version": "1.5.0",
       "_model_name": "FloatProgressModel",
       "_view_count": null,
       "_view_module": "@jupyter-widgets/controls",
       "_view_module_version": "1.5.0",
       "_view_name": "ProgressView",
       "bar_style": "success",
       "description": "",
       "description_tooltip": null,
       "layout": "IPY_MODEL_9bb5d21ef9cb48cf90a84f86daf47b10",
       "max": 435779157.0,
       "min": 0.0,
       "orientation": "horizontal",
       "style": "IPY_MODEL_907d7fd71972498a931571a07e2a98a3",
       "value": 435779157.0
      }
     },
     "08a6e3b4bf814c8993a695a8f4548350": {
      "model_module": "@jupyter-widgets/controls",
      "model_module_version": "1.5.0",
      "model_name": "DescriptionStyleModel",
      "state": {
       "_model_module": "@jupyter-widgets/controls",
       "_model_module_version": "1.5.0",
       "_model_name": "DescriptionStyleModel",
       "_view_count": null,
       "_view_module": "@jupyter-widgets/base",
       "_view_module_version": "1.2.0",
       "_view_name": "StyleView",
       "description_width": ""
      }
     },
     "107eba4e72064d8298a36bcbdbcc4f24": {
      "model_module": "@jupyter-widgets/controls",
      "model_module_version": "1.5.0",
      "model_name": "ProgressStyleModel",
      "state": {
       "_model_module": "@jupyter-widgets/controls",
       "_model_module_version": "1.5.0",
       "_model_name": "ProgressStyleModel",
       "_view_count": null,
       "_view_module": "@jupyter-widgets/base",
       "_view_module_version": "1.2.0",
       "_view_name": "StyleView",
       "bar_color": null,
       "description_width": ""
      }
     },
     "1813cbed43f343b4a1a2b1b307a1ad25": {
      "model_module": "@jupyter-widgets/base",
      "model_module_version": "1.2.0",
      "model_name": "LayoutModel",
      "state": {
       "_model_module": "@jupyter-widgets/base",
       "_model_module_version": "1.2.0",
       "_model_name": "LayoutModel",
       "_view_count": null,
       "_view_module": "@jupyter-widgets/base",
       "_view_module_version": "1.2.0",
       "_view_name": "LayoutView",
       "align_content": null,
       "align_items": null,
       "align_self": null,
       "border": null,
       "bottom": null,
       "display": null,
       "flex": null,
       "flex_flow": null,
       "grid_area": null,
       "grid_auto_columns": null,
       "grid_auto_flow": null,
       "grid_auto_rows": null,
       "grid_column": null,
       "grid_gap": null,
       "grid_row": null,
       "grid_template_areas": null,
       "grid_template_columns": null,
       "grid_template_rows": null,
       "height": null,
       "justify_content": null,
       "justify_items": null,
       "left": null,
       "margin": null,
       "max_height": null,
       "max_width": null,
       "min_height": null,
       "min_width": null,
       "object_fit": null,
       "object_position": null,
       "order": null,
       "overflow": null,
       "overflow_x": null,
       "overflow_y": null,
       "padding": null,
       "right": null,
       "top": null,
       "visibility": null,
       "width": null
      }
     },
     "1aa7712f0b3a4e07a7ef2ac8891ef917": {
      "model_module": "@jupyter-widgets/controls",
      "model_module_version": "1.5.0",
      "model_name": "DescriptionStyleModel",
      "state": {
       "_model_module": "@jupyter-widgets/controls",
       "_model_module_version": "1.5.0",
       "_model_name": "DescriptionStyleModel",
       "_view_count": null,
       "_view_module": "@jupyter-widgets/base",
       "_view_module_version": "1.2.0",
       "_view_name": "StyleView",
       "description_width": ""
      }
     },
     "1c286ca4968044338f8349a150e7ed43": {
      "model_module": "@jupyter-widgets/controls",
      "model_module_version": "1.5.0",
      "model_name": "DescriptionStyleModel",
      "state": {
       "_model_module": "@jupyter-widgets/controls",
       "_model_module_version": "1.5.0",
       "_model_name": "DescriptionStyleModel",
       "_view_count": null,
       "_view_module": "@jupyter-widgets/base",
       "_view_module_version": "1.2.0",
       "_view_name": "StyleView",
       "description_width": ""
      }
     },
     "2708d1c660e34a0a9d6de29b519f1a14": {
      "model_module": "@jupyter-widgets/controls",
      "model_module_version": "1.5.0",
      "model_name": "DescriptionStyleModel",
      "state": {
       "_model_module": "@jupyter-widgets/controls",
       "_model_module_version": "1.5.0",
       "_model_name": "DescriptionStyleModel",
       "_view_count": null,
       "_view_module": "@jupyter-widgets/base",
       "_view_module_version": "1.2.0",
       "_view_name": "StyleView",
       "description_width": ""
      }
     },
     "2d7051f2895847fa9c55e683a9d5e428": {
      "model_module": "@jupyter-widgets/base",
      "model_module_version": "1.2.0",
      "model_name": "LayoutModel",
      "state": {
       "_model_module": "@jupyter-widgets/base",
       "_model_module_version": "1.2.0",
       "_model_name": "LayoutModel",
       "_view_count": null,
       "_view_module": "@jupyter-widgets/base",
       "_view_module_version": "1.2.0",
       "_view_name": "LayoutView",
       "align_content": null,
       "align_items": null,
       "align_self": null,
       "border": null,
       "bottom": null,
       "display": null,
       "flex": null,
       "flex_flow": null,
       "grid_area": null,
       "grid_auto_columns": null,
       "grid_auto_flow": null,
       "grid_auto_rows": null,
       "grid_column": null,
       "grid_gap": null,
       "grid_row": null,
       "grid_template_areas": null,
       "grid_template_columns": null,
       "grid_template_rows": null,
       "height": null,
       "justify_content": null,
       "justify_items": null,
       "left": null,
       "margin": null,
       "max_height": null,
       "max_width": null,
       "min_height": null,
       "min_width": null,
       "object_fit": null,
       "object_position": null,
       "order": null,
       "overflow": null,
       "overflow_x": null,
       "overflow_y": null,
       "padding": null,
       "right": null,
       "top": null,
       "visibility": null,
       "width": null
      }
     },
     "2dab0bcd97974939b989a0bca56bd3f0": {
      "model_module": "@jupyter-widgets/controls",
      "model_module_version": "1.5.0",
      "model_name": "HBoxModel",
      "state": {
       "_dom_classes": [],
       "_model_module": "@jupyter-widgets/controls",
       "_model_module_version": "1.5.0",
       "_model_name": "HBoxModel",
       "_view_count": null,
       "_view_module": "@jupyter-widgets/controls",
       "_view_module_version": "1.5.0",
       "_view_name": "HBoxView",
       "box_style": "",
       "children": [
        "IPY_MODEL_c90e87f941ba4c87a32205b2bb8caa32",
        "IPY_MODEL_749f82e7672b4195bd067e2f3a5db9c3",
        "IPY_MODEL_c5ec3e0cd42a4484bd86040655b24395"
       ],
       "layout": "IPY_MODEL_4a79d76d786b464984cef6cbb3c4e24a"
      }
     },
     "2ec270feefde41af913f2a77ce46d464": {
      "model_module": "@jupyter-widgets/controls",
      "model_module_version": "1.5.0",
      "model_name": "DescriptionStyleModel",
      "state": {
       "_model_module": "@jupyter-widgets/controls",
       "_model_module_version": "1.5.0",
       "_model_name": "DescriptionStyleModel",
       "_view_count": null,
       "_view_module": "@jupyter-widgets/base",
       "_view_module_version": "1.2.0",
       "_view_name": "StyleView",
       "description_width": ""
      }
     },
     "341aac8a16a443118a9defb1f7598955": {
      "model_module": "@jupyter-widgets/base",
      "model_module_version": "1.2.0",
      "model_name": "LayoutModel",
      "state": {
       "_model_module": "@jupyter-widgets/base",
       "_model_module_version": "1.2.0",
       "_model_name": "LayoutModel",
       "_view_count": null,
       "_view_module": "@jupyter-widgets/base",
       "_view_module_version": "1.2.0",
       "_view_name": "LayoutView",
       "align_content": null,
       "align_items": null,
       "align_self": null,
       "border": null,
       "bottom": null,
       "display": null,
       "flex": null,
       "flex_flow": null,
       "grid_area": null,
       "grid_auto_columns": null,
       "grid_auto_flow": null,
       "grid_auto_rows": null,
       "grid_column": null,
       "grid_gap": null,
       "grid_row": null,
       "grid_template_areas": null,
       "grid_template_columns": null,
       "grid_template_rows": null,
       "height": null,
       "justify_content": null,
       "justify_items": null,
       "left": null,
       "margin": null,
       "max_height": null,
       "max_width": null,
       "min_height": null,
       "min_width": null,
       "object_fit": null,
       "object_position": null,
       "order": null,
       "overflow": null,
       "overflow_x": null,
       "overflow_y": null,
       "padding": null,
       "right": null,
       "top": null,
       "visibility": null,
       "width": null
      }
     },
     "387f31b174f7488ea72d474725f50b24": {
      "model_module": "@jupyter-widgets/controls",
      "model_module_version": "1.5.0",
      "model_name": "HTMLModel",
      "state": {
       "_dom_classes": [],
       "_model_module": "@jupyter-widgets/controls",
       "_model_module_version": "1.5.0",
       "_model_name": "HTMLModel",
       "_view_count": null,
       "_view_module": "@jupyter-widgets/controls",
       "_view_module_version": "1.5.0",
       "_view_name": "HTMLView",
       "description": "",
       "description_tooltip": null,
       "layout": "IPY_MODEL_73eac23e523b4270a0b767beb482c9ca",
       "placeholder": "​",
       "style": "IPY_MODEL_1c286ca4968044338f8349a150e7ed43",
       "value": " 416M/416M [00:14&lt;00:00, 31.3MB/s]"
      }
     },
     "3aa8e0dff9f640f5a14ccf9d4b1752bf": {
      "model_module": "@jupyter-widgets/controls",
      "model_module_version": "1.5.0",
      "model_name": "HTMLModel",
      "state": {
       "_dom_classes": [],
       "_model_module": "@jupyter-widgets/controls",
       "_model_module_version": "1.5.0",
       "_model_name": "HTMLModel",
       "_view_count": null,
       "_view_module": "@jupyter-widgets/controls",
       "_view_module_version": "1.5.0",
       "_view_name": "HTMLView",
       "description": "",
       "description_tooltip": null,
       "layout": "IPY_MODEL_2d7051f2895847fa9c55e683a9d5e428",
       "placeholder": "​",
       "style": "IPY_MODEL_f0a1cbbf53ba48c1b9375f4063d5336f",
       "value": "Downloading: 100%"
      }
     },
     "3af7a487d4924023a95d3ad73f74882c": {
      "model_module": "@jupyter-widgets/base",
      "model_module_version": "1.2.0",
      "model_name": "LayoutModel",
      "state": {
       "_model_module": "@jupyter-widgets/base",
       "_model_module_version": "1.2.0",
       "_model_name": "LayoutModel",
       "_view_count": null,
       "_view_module": "@jupyter-widgets/base",
       "_view_module_version": "1.2.0",
       "_view_name": "LayoutView",
       "align_content": null,
       "align_items": null,
       "align_self": null,
       "border": null,
       "bottom": null,
       "display": null,
       "flex": null,
       "flex_flow": null,
       "grid_area": null,
       "grid_auto_columns": null,
       "grid_auto_flow": null,
       "grid_auto_rows": null,
       "grid_column": null,
       "grid_gap": null,
       "grid_row": null,
       "grid_template_areas": null,
       "grid_template_columns": null,
       "grid_template_rows": null,
       "height": null,
       "justify_content": null,
       "justify_items": null,
       "left": null,
       "margin": null,
       "max_height": null,
       "max_width": null,
       "min_height": null,
       "min_width": null,
       "object_fit": null,
       "object_position": null,
       "order": null,
       "overflow": null,
       "overflow_x": null,
       "overflow_y": null,
       "padding": null,
       "right": null,
       "top": null,
       "visibility": null,
       "width": null
      }
     },
     "434e29fb528d4beea1f6ad1fbc3ff4ba": {
      "model_module": "@jupyter-widgets/controls",
      "model_module_version": "1.5.0",
      "model_name": "FloatProgressModel",
      "state": {
       "_dom_classes": [],
       "_model_module": "@jupyter-widgets/controls",
       "_model_module_version": "1.5.0",
       "_model_name": "FloatProgressModel",
       "_view_count": null,
       "_view_module": "@jupyter-widgets/controls",
       "_view_module_version": "1.5.0",
       "_view_name": "ProgressView",
       "bar_style": "success",
       "description": "",
       "description_tooltip": null,
       "layout": "IPY_MODEL_62178111948d4730af2a265c2cbc3276",
       "max": 29.0,
       "min": 0.0,
       "orientation": "horizontal",
       "style": "IPY_MODEL_bb69e982f5774363a826001401e65a66",
       "value": 29.0
      }
     },
     "4a1178be31fc425b95389e03bd8bcb84": {
      "model_module": "@jupyter-widgets/controls",
      "model_module_version": "1.5.0",
      "model_name": "DescriptionStyleModel",
      "state": {
       "_model_module": "@jupyter-widgets/controls",
       "_model_module_version": "1.5.0",
       "_model_name": "DescriptionStyleModel",
       "_view_count": null,
       "_view_module": "@jupyter-widgets/base",
       "_view_module_version": "1.2.0",
       "_view_name": "StyleView",
       "description_width": ""
      }
     },
     "4a79d76d786b464984cef6cbb3c4e24a": {
      "model_module": "@jupyter-widgets/base",
      "model_module_version": "1.2.0",
      "model_name": "LayoutModel",
      "state": {
       "_model_module": "@jupyter-widgets/base",
       "_model_module_version": "1.2.0",
       "_model_name": "LayoutModel",
       "_view_count": null,
       "_view_module": "@jupyter-widgets/base",
       "_view_module_version": "1.2.0",
       "_view_name": "LayoutView",
       "align_content": null,
       "align_items": null,
       "align_self": null,
       "border": null,
       "bottom": null,
       "display": null,
       "flex": null,
       "flex_flow": null,
       "grid_area": null,
       "grid_auto_columns": null,
       "grid_auto_flow": null,
       "grid_auto_rows": null,
       "grid_column": null,
       "grid_gap": null,
       "grid_row": null,
       "grid_template_areas": null,
       "grid_template_columns": null,
       "grid_template_rows": null,
       "height": null,
       "justify_content": null,
       "justify_items": null,
       "left": null,
       "margin": null,
       "max_height": null,
       "max_width": null,
       "min_height": null,
       "min_width": null,
       "object_fit": null,
       "object_position": null,
       "order": null,
       "overflow": null,
       "overflow_x": null,
       "overflow_y": null,
       "padding": null,
       "right": null,
       "top": null,
       "visibility": null,
       "width": null
      }
     },
     "4bf597bcf9cc487f9729aaa0215df5a0": {
      "model_module": "@jupyter-widgets/base",
      "model_module_version": "1.2.0",
      "model_name": "LayoutModel",
      "state": {
       "_model_module": "@jupyter-widgets/base",
       "_model_module_version": "1.2.0",
       "_model_name": "LayoutModel",
       "_view_count": null,
       "_view_module": "@jupyter-widgets/base",
       "_view_module_version": "1.2.0",
       "_view_name": "LayoutView",
       "align_content": null,
       "align_items": null,
       "align_self": null,
       "border": null,
       "bottom": null,
       "display": null,
       "flex": null,
       "flex_flow": null,
       "grid_area": null,
       "grid_auto_columns": null,
       "grid_auto_flow": null,
       "grid_auto_rows": null,
       "grid_column": null,
       "grid_gap": null,
       "grid_row": null,
       "grid_template_areas": null,
       "grid_template_columns": null,
       "grid_template_rows": null,
       "height": null,
       "justify_content": null,
       "justify_items": null,
       "left": null,
       "margin": null,
       "max_height": null,
       "max_width": null,
       "min_height": null,
       "min_width": null,
       "object_fit": null,
       "object_position": null,
       "order": null,
       "overflow": null,
       "overflow_x": null,
       "overflow_y": null,
       "padding": null,
       "right": null,
       "top": null,
       "visibility": null,
       "width": null
      }
     },
     "51afa90be3af42cd8030126b13ada4cd": {
      "model_module": "@jupyter-widgets/controls",
      "model_module_version": "1.5.0",
      "model_name": "DescriptionStyleModel",
      "state": {
       "_model_module": "@jupyter-widgets/controls",
       "_model_module_version": "1.5.0",
       "_model_name": "DescriptionStyleModel",
       "_view_count": null,
       "_view_module": "@jupyter-widgets/base",
       "_view_module_version": "1.2.0",
       "_view_name": "StyleView",
       "description_width": ""
      }
     },
     "53c2ff6813ae436daadc0970a0b0d1a0": {
      "model_module": "@jupyter-widgets/controls",
      "model_module_version": "1.5.0",
      "model_name": "FloatProgressModel",
      "state": {
       "_dom_classes": [],
       "_model_module": "@jupyter-widgets/controls",
       "_model_module_version": "1.5.0",
       "_model_name": "FloatProgressModel",
       "_view_count": null,
       "_view_module": "@jupyter-widgets/controls",
       "_view_module_version": "1.5.0",
       "_view_name": "ProgressView",
       "bar_style": "success",
       "description": "",
       "description_tooltip": null,
       "layout": "IPY_MODEL_7cc06f565a134d3cb463a57f3702667c",
       "max": 570.0,
       "min": 0.0,
       "orientation": "horizontal",
       "style": "IPY_MODEL_107eba4e72064d8298a36bcbdbcc4f24",
       "value": 570.0
      }
     },
     "54b73e1bed8444259b531967c1716a81": {
      "model_module": "@jupyter-widgets/base",
      "model_module_version": "1.2.0",
      "model_name": "LayoutModel",
      "state": {
       "_model_module": "@jupyter-widgets/base",
       "_model_module_version": "1.2.0",
       "_model_name": "LayoutModel",
       "_view_count": null,
       "_view_module": "@jupyter-widgets/base",
       "_view_module_version": "1.2.0",
       "_view_name": "LayoutView",
       "align_content": null,
       "align_items": null,
       "align_self": null,
       "border": null,
       "bottom": null,
       "display": null,
       "flex": null,
       "flex_flow": null,
       "grid_area": null,
       "grid_auto_columns": null,
       "grid_auto_flow": null,
       "grid_auto_rows": null,
       "grid_column": null,
       "grid_gap": null,
       "grid_row": null,
       "grid_template_areas": null,
       "grid_template_columns": null,
       "grid_template_rows": null,
       "height": null,
       "justify_content": null,
       "justify_items": null,
       "left": null,
       "margin": null,
       "max_height": null,
       "max_width": null,
       "min_height": null,
       "min_width": null,
       "object_fit": null,
       "object_position": null,
       "order": null,
       "overflow": null,
       "overflow_x": null,
       "overflow_y": null,
       "padding": null,
       "right": null,
       "top": null,
       "visibility": null,
       "width": null
      }
     },
     "555b572a50c34d4aa1e1f7176adf7d70": {
      "model_module": "@jupyter-widgets/controls",
      "model_module_version": "1.5.0",
      "model_name": "HTMLModel",
      "state": {
       "_dom_classes": [],
       "_model_module": "@jupyter-widgets/controls",
       "_model_module_version": "1.5.0",
       "_model_name": "HTMLModel",
       "_view_count": null,
       "_view_module": "@jupyter-widgets/controls",
       "_view_module_version": "1.5.0",
       "_view_name": "HTMLView",
       "description": "",
       "description_tooltip": null,
       "layout": "IPY_MODEL_3af7a487d4924023a95d3ad73f74882c",
       "placeholder": "​",
       "style": "IPY_MODEL_2708d1c660e34a0a9d6de29b519f1a14",
       "value": " 570/570 [00:00&lt;00:00, 20.8kB/s]"
      }
     },
     "5e9abfa1cf4442cd8099e64cbcab4bc2": {
      "model_module": "@jupyter-widgets/base",
      "model_module_version": "1.2.0",
      "model_name": "LayoutModel",
      "state": {
       "_model_module": "@jupyter-widgets/base",
       "_model_module_version": "1.2.0",
       "_model_name": "LayoutModel",
       "_view_count": null,
       "_view_module": "@jupyter-widgets/base",
       "_view_module_version": "1.2.0",
       "_view_name": "LayoutView",
       "align_content": null,
       "align_items": null,
       "align_self": null,
       "border": null,
       "bottom": null,
       "display": null,
       "flex": null,
       "flex_flow": null,
       "grid_area": null,
       "grid_auto_columns": null,
       "grid_auto_flow": null,
       "grid_auto_rows": null,
       "grid_column": null,
       "grid_gap": null,
       "grid_row": null,
       "grid_template_areas": null,
       "grid_template_columns": null,
       "grid_template_rows": null,
       "height": null,
       "justify_content": null,
       "justify_items": null,
       "left": null,
       "margin": null,
       "max_height": null,
       "max_width": null,
       "min_height": null,
       "min_width": null,
       "object_fit": null,
       "object_position": null,
       "order": null,
       "overflow": null,
       "overflow_x": null,
       "overflow_y": null,
       "padding": null,
       "right": null,
       "top": null,
       "visibility": null,
       "width": null
      }
     },
     "62178111948d4730af2a265c2cbc3276": {
      "model_module": "@jupyter-widgets/base",
      "model_module_version": "1.2.0",
      "model_name": "LayoutModel",
      "state": {
       "_model_module": "@jupyter-widgets/base",
       "_model_module_version": "1.2.0",
       "_model_name": "LayoutModel",
       "_view_count": null,
       "_view_module": "@jupyter-widgets/base",
       "_view_module_version": "1.2.0",
       "_view_name": "LayoutView",
       "align_content": null,
       "align_items": null,
       "align_self": null,
       "border": null,
       "bottom": null,
       "display": null,
       "flex": null,
       "flex_flow": null,
       "grid_area": null,
       "grid_auto_columns": null,
       "grid_auto_flow": null,
       "grid_auto_rows": null,
       "grid_column": null,
       "grid_gap": null,
       "grid_row": null,
       "grid_template_areas": null,
       "grid_template_columns": null,
       "grid_template_rows": null,
       "height": null,
       "justify_content": null,
       "justify_items": null,
       "left": null,
       "margin": null,
       "max_height": null,
       "max_width": null,
       "min_height": null,
       "min_width": null,
       "object_fit": null,
       "object_position": null,
       "order": null,
       "overflow": null,
       "overflow_x": null,
       "overflow_y": null,
       "padding": null,
       "right": null,
       "top": null,
       "visibility": null,
       "width": null
      }
     },
     "699e3586fec441fbab8231807f1c40d0": {
      "model_module": "@jupyter-widgets/controls",
      "model_module_version": "1.5.0",
      "model_name": "DescriptionStyleModel",
      "state": {
       "_model_module": "@jupyter-widgets/controls",
       "_model_module_version": "1.5.0",
       "_model_name": "DescriptionStyleModel",
       "_view_count": null,
       "_view_module": "@jupyter-widgets/base",
       "_view_module_version": "1.2.0",
       "_view_name": "StyleView",
       "description_width": ""
      }
     },
     "69cbd7f95c084cabba7a4f934deef4c0": {
      "model_module": "@jupyter-widgets/controls",
      "model_module_version": "1.5.0",
      "model_name": "HBoxModel",
      "state": {
       "_dom_classes": [],
       "_model_module": "@jupyter-widgets/controls",
       "_model_module_version": "1.5.0",
       "_model_name": "HBoxModel",
       "_view_count": null,
       "_view_module": "@jupyter-widgets/controls",
       "_view_module_version": "1.5.0",
       "_view_name": "HBoxView",
       "box_style": "",
       "children": [
        "IPY_MODEL_8fde0496f7d9428ca0a5b1d0fc0db090",
        "IPY_MODEL_03336db2dd504620848cbc557a16fb47",
        "IPY_MODEL_387f31b174f7488ea72d474725f50b24"
       ],
       "layout": "IPY_MODEL_5e9abfa1cf4442cd8099e64cbcab4bc2"
      }
     },
     "71193ebd3ac54c9e98a2e823d4638565": {
      "model_module": "@jupyter-widgets/base",
      "model_module_version": "1.2.0",
      "model_name": "LayoutModel",
      "state": {
       "_model_module": "@jupyter-widgets/base",
       "_model_module_version": "1.2.0",
       "_model_name": "LayoutModel",
       "_view_count": null,
       "_view_module": "@jupyter-widgets/base",
       "_view_module_version": "1.2.0",
       "_view_name": "LayoutView",
       "align_content": null,
       "align_items": null,
       "align_self": null,
       "border": null,
       "bottom": null,
       "display": null,
       "flex": null,
       "flex_flow": null,
       "grid_area": null,
       "grid_auto_columns": null,
       "grid_auto_flow": null,
       "grid_auto_rows": null,
       "grid_column": null,
       "grid_gap": null,
       "grid_row": null,
       "grid_template_areas": null,
       "grid_template_columns": null,
       "grid_template_rows": null,
       "height": null,
       "justify_content": null,
       "justify_items": null,
       "left": null,
       "margin": null,
       "max_height": null,
       "max_width": null,
       "min_height": null,
       "min_width": null,
       "object_fit": null,
       "object_position": null,
       "order": null,
       "overflow": null,
       "overflow_x": null,
       "overflow_y": null,
       "padding": null,
       "right": null,
       "top": null,
       "visibility": null,
       "width": null
      }
     },
     "73eac23e523b4270a0b767beb482c9ca": {
      "model_module": "@jupyter-widgets/base",
      "model_module_version": "1.2.0",
      "model_name": "LayoutModel",
      "state": {
       "_model_module": "@jupyter-widgets/base",
       "_model_module_version": "1.2.0",
       "_model_name": "LayoutModel",
       "_view_count": null,
       "_view_module": "@jupyter-widgets/base",
       "_view_module_version": "1.2.0",
       "_view_name": "LayoutView",
       "align_content": null,
       "align_items": null,
       "align_self": null,
       "border": null,
       "bottom": null,
       "display": null,
       "flex": null,
       "flex_flow": null,
       "grid_area": null,
       "grid_auto_columns": null,
       "grid_auto_flow": null,
       "grid_auto_rows": null,
       "grid_column": null,
       "grid_gap": null,
       "grid_row": null,
       "grid_template_areas": null,
       "grid_template_columns": null,
       "grid_template_rows": null,
       "height": null,
       "justify_content": null,
       "justify_items": null,
       "left": null,
       "margin": null,
       "max_height": null,
       "max_width": null,
       "min_height": null,
       "min_width": null,
       "object_fit": null,
       "object_position": null,
       "order": null,
       "overflow": null,
       "overflow_x": null,
       "overflow_y": null,
       "padding": null,
       "right": null,
       "top": null,
       "visibility": null,
       "width": null
      }
     },
     "749f82e7672b4195bd067e2f3a5db9c3": {
      "model_module": "@jupyter-widgets/controls",
      "model_module_version": "1.5.0",
      "model_name": "FloatProgressModel",
      "state": {
       "_dom_classes": [],
       "_model_module": "@jupyter-widgets/controls",
       "_model_module_version": "1.5.0",
       "_model_name": "FloatProgressModel",
       "_view_count": null,
       "_view_module": "@jupyter-widgets/controls",
       "_view_module_version": "1.5.0",
       "_view_name": "ProgressView",
       "bar_style": "success",
       "description": "",
       "description_tooltip": null,
       "layout": "IPY_MODEL_4bf597bcf9cc487f9729aaa0215df5a0",
       "max": 213450.0,
       "min": 0.0,
       "orientation": "horizontal",
       "style": "IPY_MODEL_fe378d80227e4d2c8464d0c0bd06beea",
       "value": 213450.0
      }
     },
     "77d3a7a12f17456e8804b4a188dabb72": {
      "model_module": "@jupyter-widgets/base",
      "model_module_version": "1.2.0",
      "model_name": "LayoutModel",
      "state": {
       "_model_module": "@jupyter-widgets/base",
       "_model_module_version": "1.2.0",
       "_model_name": "LayoutModel",
       "_view_count": null,
       "_view_module": "@jupyter-widgets/base",
       "_view_module_version": "1.2.0",
       "_view_name": "LayoutView",
       "align_content": null,
       "align_items": null,
       "align_self": null,
       "border": null,
       "bottom": null,
       "display": null,
       "flex": null,
       "flex_flow": null,
       "grid_area": null,
       "grid_auto_columns": null,
       "grid_auto_flow": null,
       "grid_auto_rows": null,
       "grid_column": null,
       "grid_gap": null,
       "grid_row": null,
       "grid_template_areas": null,
       "grid_template_columns": null,
       "grid_template_rows": null,
       "height": null,
       "justify_content": null,
       "justify_items": null,
       "left": null,
       "margin": null,
       "max_height": null,
       "max_width": null,
       "min_height": null,
       "min_width": null,
       "object_fit": null,
       "object_position": null,
       "order": null,
       "overflow": null,
       "overflow_x": null,
       "overflow_y": null,
       "padding": null,
       "right": null,
       "top": null,
       "visibility": null,
       "width": null
      }
     },
     "78272227c90749e3bc3880f4c59975bd": {
      "model_module": "@jupyter-widgets/controls",
      "model_module_version": "1.5.0",
      "model_name": "FloatProgressModel",
      "state": {
       "_dom_classes": [],
       "_model_module": "@jupyter-widgets/controls",
       "_model_module_version": "1.5.0",
       "_model_name": "FloatProgressModel",
       "_view_count": null,
       "_view_module": "@jupyter-widgets/controls",
       "_view_module_version": "1.5.0",
       "_view_name": "ProgressView",
       "bar_style": "success",
       "description": "",
       "description_tooltip": null,
       "layout": "IPY_MODEL_77d3a7a12f17456e8804b4a188dabb72",
       "max": 435797.0,
       "min": 0.0,
       "orientation": "horizontal",
       "style": "IPY_MODEL_02f6f9eee88a4814878d7a5fd2947ff5",
       "value": 435797.0
      }
     },
     "7cc06f565a134d3cb463a57f3702667c": {
      "model_module": "@jupyter-widgets/base",
      "model_module_version": "1.2.0",
      "model_name": "LayoutModel",
      "state": {
       "_model_module": "@jupyter-widgets/base",
       "_model_module_version": "1.2.0",
       "_model_name": "LayoutModel",
       "_view_count": null,
       "_view_module": "@jupyter-widgets/base",
       "_view_module_version": "1.2.0",
       "_view_name": "LayoutView",
       "align_content": null,
       "align_items": null,
       "align_self": null,
       "border": null,
       "bottom": null,
       "display": null,
       "flex": null,
       "flex_flow": null,
       "grid_area": null,
       "grid_auto_columns": null,
       "grid_auto_flow": null,
       "grid_auto_rows": null,
       "grid_column": null,
       "grid_gap": null,
       "grid_row": null,
       "grid_template_areas": null,
       "grid_template_columns": null,
       "grid_template_rows": null,
       "height": null,
       "justify_content": null,
       "justify_items": null,
       "left": null,
       "margin": null,
       "max_height": null,
       "max_width": null,
       "min_height": null,
       "min_width": null,
       "object_fit": null,
       "object_position": null,
       "order": null,
       "overflow": null,
       "overflow_x": null,
       "overflow_y": null,
       "padding": null,
       "right": null,
       "top": null,
       "visibility": null,
       "width": null
      }
     },
     "8217313070d84479ae386e6cea47d3d6": {
      "model_module": "@jupyter-widgets/controls",
      "model_module_version": "1.5.0",
      "model_name": "HTMLModel",
      "state": {
       "_dom_classes": [],
       "_model_module": "@jupyter-widgets/controls",
       "_model_module_version": "1.5.0",
       "_model_name": "HTMLModel",
       "_view_count": null,
       "_view_module": "@jupyter-widgets/controls",
       "_view_module_version": "1.5.0",
       "_view_name": "HTMLView",
       "description": "",
       "description_tooltip": null,
       "layout": "IPY_MODEL_dbe82a142033434cb311eccbe84c6b35",
       "placeholder": "​",
       "style": "IPY_MODEL_4a1178be31fc425b95389e03bd8bcb84",
       "value": "Downloading: 100%"
      }
     },
     "8fde0496f7d9428ca0a5b1d0fc0db090": {
      "model_module": "@jupyter-widgets/controls",
      "model_module_version": "1.5.0",
      "model_name": "HTMLModel",
      "state": {
       "_dom_classes": [],
       "_model_module": "@jupyter-widgets/controls",
       "_model_module_version": "1.5.0",
       "_model_name": "HTMLModel",
       "_view_count": null,
       "_view_module": "@jupyter-widgets/controls",
       "_view_module_version": "1.5.0",
       "_view_name": "HTMLView",
       "description": "",
       "description_tooltip": null,
       "layout": "IPY_MODEL_341aac8a16a443118a9defb1f7598955",
       "placeholder": "​",
       "style": "IPY_MODEL_a9239c14f37147f7b73b65439bbaaf11",
       "value": "Downloading: 100%"
      }
     },
     "904a9c1a086e4050a1f6aa6d5f1a2032": {
      "model_module": "@jupyter-widgets/controls",
      "model_module_version": "1.5.0",
      "model_name": "HTMLModel",
      "state": {
       "_dom_classes": [],
       "_model_module": "@jupyter-widgets/controls",
       "_model_module_version": "1.5.0",
       "_model_name": "HTMLModel",
       "_view_count": null,
       "_view_module": "@jupyter-widgets/controls",
       "_view_module_version": "1.5.0",
       "_view_name": "HTMLView",
       "description": "",
       "description_tooltip": null,
       "layout": "IPY_MODEL_fbcf599eade144fdaf07e6a94d2b0e13",
       "placeholder": "​",
       "style": "IPY_MODEL_51afa90be3af42cd8030126b13ada4cd",
       "value": " 426k/426k [00:00&lt;00:00, 717kB/s]"
      }
     },
     "907d7fd71972498a931571a07e2a98a3": {
      "model_module": "@jupyter-widgets/controls",
      "model_module_version": "1.5.0",
      "model_name": "ProgressStyleModel",
      "state": {
       "_model_module": "@jupyter-widgets/controls",
       "_model_module_version": "1.5.0",
       "_model_name": "ProgressStyleModel",
       "_view_count": null,
       "_view_module": "@jupyter-widgets/base",
       "_view_module_version": "1.2.0",
       "_view_name": "StyleView",
       "bar_color": null,
       "description_width": ""
      }
     },
     "9bb5d21ef9cb48cf90a84f86daf47b10": {
      "model_module": "@jupyter-widgets/base",
      "model_module_version": "1.2.0",
      "model_name": "LayoutModel",
      "state": {
       "_model_module": "@jupyter-widgets/base",
       "_model_module_version": "1.2.0",
       "_model_name": "LayoutModel",
       "_view_count": null,
       "_view_module": "@jupyter-widgets/base",
       "_view_module_version": "1.2.0",
       "_view_name": "LayoutView",
       "align_content": null,
       "align_items": null,
       "align_self": null,
       "border": null,
       "bottom": null,
       "display": null,
       "flex": null,
       "flex_flow": null,
       "grid_area": null,
       "grid_auto_columns": null,
       "grid_auto_flow": null,
       "grid_auto_rows": null,
       "grid_column": null,
       "grid_gap": null,
       "grid_row": null,
       "grid_template_areas": null,
       "grid_template_columns": null,
       "grid_template_rows": null,
       "height": null,
       "justify_content": null,
       "justify_items": null,
       "left": null,
       "margin": null,
       "max_height": null,
       "max_width": null,
       "min_height": null,
       "min_width": null,
       "object_fit": null,
       "object_position": null,
       "order": null,
       "overflow": null,
       "overflow_x": null,
       "overflow_y": null,
       "padding": null,
       "right": null,
       "top": null,
       "visibility": null,
       "width": null
      }
     },
     "a9239c14f37147f7b73b65439bbaaf11": {
      "model_module": "@jupyter-widgets/controls",
      "model_module_version": "1.5.0",
      "model_name": "DescriptionStyleModel",
      "state": {
       "_model_module": "@jupyter-widgets/controls",
       "_model_module_version": "1.5.0",
       "_model_name": "DescriptionStyleModel",
       "_view_count": null,
       "_view_module": "@jupyter-widgets/base",
       "_view_module_version": "1.2.0",
       "_view_name": "StyleView",
       "description_width": ""
      }
     },
     "a9e6118bc8c145529798ccd3d044123f": {
      "model_module": "@jupyter-widgets/controls",
      "model_module_version": "1.5.0",
      "model_name": "HTMLModel",
      "state": {
       "_dom_classes": [],
       "_model_module": "@jupyter-widgets/controls",
       "_model_module_version": "1.5.0",
       "_model_name": "HTMLModel",
       "_view_count": null,
       "_view_module": "@jupyter-widgets/controls",
       "_view_module_version": "1.5.0",
       "_view_name": "HTMLView",
       "description": "",
       "description_tooltip": null,
       "layout": "IPY_MODEL_ef9e783a0bd145a1a5026e7b8ea2efcb",
       "placeholder": "​",
       "style": "IPY_MODEL_699e3586fec441fbab8231807f1c40d0",
       "value": "Downloading: 100%"
      }
     },
     "b730a4aed6fd4c8c9231911c1e454f24": {
      "model_module": "@jupyter-widgets/base",
      "model_module_version": "1.2.0",
      "model_name": "LayoutModel",
      "state": {
       "_model_module": "@jupyter-widgets/base",
       "_model_module_version": "1.2.0",
       "_model_name": "LayoutModel",
       "_view_count": null,
       "_view_module": "@jupyter-widgets/base",
       "_view_module_version": "1.2.0",
       "_view_name": "LayoutView",
       "align_content": null,
       "align_items": null,
       "align_self": null,
       "border": null,
       "bottom": null,
       "display": null,
       "flex": null,
       "flex_flow": null,
       "grid_area": null,
       "grid_auto_columns": null,
       "grid_auto_flow": null,
       "grid_auto_rows": null,
       "grid_column": null,
       "grid_gap": null,
       "grid_row": null,
       "grid_template_areas": null,
       "grid_template_columns": null,
       "grid_template_rows": null,
       "height": null,
       "justify_content": null,
       "justify_items": null,
       "left": null,
       "margin": null,
       "max_height": null,
       "max_width": null,
       "min_height": null,
       "min_width": null,
       "object_fit": null,
       "object_position": null,
       "order": null,
       "overflow": null,
       "overflow_x": null,
       "overflow_y": null,
       "padding": null,
       "right": null,
       "top": null,
       "visibility": null,
       "width": null
      }
     },
     "b9aacf300a8642ab816dda45eb519e4b": {
      "model_module": "@jupyter-widgets/controls",
      "model_module_version": "1.5.0",
      "model_name": "HBoxModel",
      "state": {
       "_dom_classes": [],
       "_model_module": "@jupyter-widgets/controls",
       "_model_module_version": "1.5.0",
       "_model_name": "HBoxModel",
       "_view_count": null,
       "_view_module": "@jupyter-widgets/controls",
       "_view_module_version": "1.5.0",
       "_view_name": "HBoxView",
       "box_style": "",
       "children": [
        "IPY_MODEL_3aa8e0dff9f640f5a14ccf9d4b1752bf",
        "IPY_MODEL_434e29fb528d4beea1f6ad1fbc3ff4ba",
        "IPY_MODEL_e9ae4580c04c49b29ef7cb35fb0f1a81"
       ],
       "layout": "IPY_MODEL_1813cbed43f343b4a1a2b1b307a1ad25"
      }
     },
     "bb69e982f5774363a826001401e65a66": {
      "model_module": "@jupyter-widgets/controls",
      "model_module_version": "1.5.0",
      "model_name": "ProgressStyleModel",
      "state": {
       "_model_module": "@jupyter-widgets/controls",
       "_model_module_version": "1.5.0",
       "_model_name": "ProgressStyleModel",
       "_view_count": null,
       "_view_module": "@jupyter-widgets/base",
       "_view_module_version": "1.2.0",
       "_view_name": "StyleView",
       "bar_color": null,
       "description_width": ""
      }
     },
     "c5ec3e0cd42a4484bd86040655b24395": {
      "model_module": "@jupyter-widgets/controls",
      "model_module_version": "1.5.0",
      "model_name": "HTMLModel",
      "state": {
       "_dom_classes": [],
       "_model_module": "@jupyter-widgets/controls",
       "_model_module_version": "1.5.0",
       "_model_name": "HTMLModel",
       "_view_count": null,
       "_view_module": "@jupyter-widgets/controls",
       "_view_module_version": "1.5.0",
       "_view_name": "HTMLView",
       "description": "",
       "description_tooltip": null,
       "layout": "IPY_MODEL_faa35ea004b6405eacbb30db00a66792",
       "placeholder": "​",
       "style": "IPY_MODEL_2ec270feefde41af913f2a77ce46d464",
       "value": " 208k/208k [00:00&lt;00:00, 511kB/s]"
      }
     },
     "c90e87f941ba4c87a32205b2bb8caa32": {
      "model_module": "@jupyter-widgets/controls",
      "model_module_version": "1.5.0",
      "model_name": "HTMLModel",
      "state": {
       "_dom_classes": [],
       "_model_module": "@jupyter-widgets/controls",
       "_model_module_version": "1.5.0",
       "_model_name": "HTMLModel",
       "_view_count": null,
       "_view_module": "@jupyter-widgets/controls",
       "_view_module_version": "1.5.0",
       "_view_name": "HTMLView",
       "description": "",
       "description_tooltip": null,
       "layout": "IPY_MODEL_71193ebd3ac54c9e98a2e823d4638565",
       "placeholder": "​",
       "style": "IPY_MODEL_1aa7712f0b3a4e07a7ef2ac8891ef917",
       "value": "Downloading: 100%"
      }
     },
     "d9f3c279c8b845f4a76b4321bcba295b": {
      "model_module": "@jupyter-widgets/controls",
      "model_module_version": "1.5.0",
      "model_name": "HBoxModel",
      "state": {
       "_dom_classes": [],
       "_model_module": "@jupyter-widgets/controls",
       "_model_module_version": "1.5.0",
       "_model_name": "HBoxModel",
       "_view_count": null,
       "_view_module": "@jupyter-widgets/controls",
       "_view_module_version": "1.5.0",
       "_view_name": "HBoxView",
       "box_style": "",
       "children": [
        "IPY_MODEL_a9e6118bc8c145529798ccd3d044123f",
        "IPY_MODEL_78272227c90749e3bc3880f4c59975bd",
        "IPY_MODEL_904a9c1a086e4050a1f6aa6d5f1a2032"
       ],
       "layout": "IPY_MODEL_f7cc38a4a9ec494480c87e29b4343a1b"
      }
     },
     "dbe82a142033434cb311eccbe84c6b35": {
      "model_module": "@jupyter-widgets/base",
      "model_module_version": "1.2.0",
      "model_name": "LayoutModel",
      "state": {
       "_model_module": "@jupyter-widgets/base",
       "_model_module_version": "1.2.0",
       "_model_name": "LayoutModel",
       "_view_count": null,
       "_view_module": "@jupyter-widgets/base",
       "_view_module_version": "1.2.0",
       "_view_name": "LayoutView",
       "align_content": null,
       "align_items": null,
       "align_self": null,
       "border": null,
       "bottom": null,
       "display": null,
       "flex": null,
       "flex_flow": null,
       "grid_area": null,
       "grid_auto_columns": null,
       "grid_auto_flow": null,
       "grid_auto_rows": null,
       "grid_column": null,
       "grid_gap": null,
       "grid_row": null,
       "grid_template_areas": null,
       "grid_template_columns": null,
       "grid_template_rows": null,
       "height": null,
       "justify_content": null,
       "justify_items": null,
       "left": null,
       "margin": null,
       "max_height": null,
       "max_width": null,
       "min_height": null,
       "min_width": null,
       "object_fit": null,
       "object_position": null,
       "order": null,
       "overflow": null,
       "overflow_x": null,
       "overflow_y": null,
       "padding": null,
       "right": null,
       "top": null,
       "visibility": null,
       "width": null
      }
     },
     "e9ae4580c04c49b29ef7cb35fb0f1a81": {
      "model_module": "@jupyter-widgets/controls",
      "model_module_version": "1.5.0",
      "model_name": "HTMLModel",
      "state": {
       "_dom_classes": [],
       "_model_module": "@jupyter-widgets/controls",
       "_model_module_version": "1.5.0",
       "_model_name": "HTMLModel",
       "_view_count": null,
       "_view_module": "@jupyter-widgets/controls",
       "_view_module_version": "1.5.0",
       "_view_name": "HTMLView",
       "description": "",
       "description_tooltip": null,
       "layout": "IPY_MODEL_b730a4aed6fd4c8c9231911c1e454f24",
       "placeholder": "​",
       "style": "IPY_MODEL_08a6e3b4bf814c8993a695a8f4548350",
       "value": " 29.0/29.0 [00:00&lt;00:00, 1.02kB/s]"
      }
     },
     "ef9e783a0bd145a1a5026e7b8ea2efcb": {
      "model_module": "@jupyter-widgets/base",
      "model_module_version": "1.2.0",
      "model_name": "LayoutModel",
      "state": {
       "_model_module": "@jupyter-widgets/base",
       "_model_module_version": "1.2.0",
       "_model_name": "LayoutModel",
       "_view_count": null,
       "_view_module": "@jupyter-widgets/base",
       "_view_module_version": "1.2.0",
       "_view_name": "LayoutView",
       "align_content": null,
       "align_items": null,
       "align_self": null,
       "border": null,
       "bottom": null,
       "display": null,
       "flex": null,
       "flex_flow": null,
       "grid_area": null,
       "grid_auto_columns": null,
       "grid_auto_flow": null,
       "grid_auto_rows": null,
       "grid_column": null,
       "grid_gap": null,
       "grid_row": null,
       "grid_template_areas": null,
       "grid_template_columns": null,
       "grid_template_rows": null,
       "height": null,
       "justify_content": null,
       "justify_items": null,
       "left": null,
       "margin": null,
       "max_height": null,
       "max_width": null,
       "min_height": null,
       "min_width": null,
       "object_fit": null,
       "object_position": null,
       "order": null,
       "overflow": null,
       "overflow_x": null,
       "overflow_y": null,
       "padding": null,
       "right": null,
       "top": null,
       "visibility": null,
       "width": null
      }
     },
     "f0a1cbbf53ba48c1b9375f4063d5336f": {
      "model_module": "@jupyter-widgets/controls",
      "model_module_version": "1.5.0",
      "model_name": "DescriptionStyleModel",
      "state": {
       "_model_module": "@jupyter-widgets/controls",
       "_model_module_version": "1.5.0",
       "_model_name": "DescriptionStyleModel",
       "_view_count": null,
       "_view_module": "@jupyter-widgets/base",
       "_view_module_version": "1.2.0",
       "_view_name": "StyleView",
       "description_width": ""
      }
     },
     "f7cc38a4a9ec494480c87e29b4343a1b": {
      "model_module": "@jupyter-widgets/base",
      "model_module_version": "1.2.0",
      "model_name": "LayoutModel",
      "state": {
       "_model_module": "@jupyter-widgets/base",
       "_model_module_version": "1.2.0",
       "_model_name": "LayoutModel",
       "_view_count": null,
       "_view_module": "@jupyter-widgets/base",
       "_view_module_version": "1.2.0",
       "_view_name": "LayoutView",
       "align_content": null,
       "align_items": null,
       "align_self": null,
       "border": null,
       "bottom": null,
       "display": null,
       "flex": null,
       "flex_flow": null,
       "grid_area": null,
       "grid_auto_columns": null,
       "grid_auto_flow": null,
       "grid_auto_rows": null,
       "grid_column": null,
       "grid_gap": null,
       "grid_row": null,
       "grid_template_areas": null,
       "grid_template_columns": null,
       "grid_template_rows": null,
       "height": null,
       "justify_content": null,
       "justify_items": null,
       "left": null,
       "margin": null,
       "max_height": null,
       "max_width": null,
       "min_height": null,
       "min_width": null,
       "object_fit": null,
       "object_position": null,
       "order": null,
       "overflow": null,
       "overflow_x": null,
       "overflow_y": null,
       "padding": null,
       "right": null,
       "top": null,
       "visibility": null,
       "width": null
      }
     },
     "fa4ce1bad7924f8f85ca3f6a3287aedd": {
      "model_module": "@jupyter-widgets/controls",
      "model_module_version": "1.5.0",
      "model_name": "HBoxModel",
      "state": {
       "_dom_classes": [],
       "_model_module": "@jupyter-widgets/controls",
       "_model_module_version": "1.5.0",
       "_model_name": "HBoxModel",
       "_view_count": null,
       "_view_module": "@jupyter-widgets/controls",
       "_view_module_version": "1.5.0",
       "_view_name": "HBoxView",
       "box_style": "",
       "children": [
        "IPY_MODEL_8217313070d84479ae386e6cea47d3d6",
        "IPY_MODEL_53c2ff6813ae436daadc0970a0b0d1a0",
        "IPY_MODEL_555b572a50c34d4aa1e1f7176adf7d70"
       ],
       "layout": "IPY_MODEL_54b73e1bed8444259b531967c1716a81"
      }
     },
     "faa35ea004b6405eacbb30db00a66792": {
      "model_module": "@jupyter-widgets/base",
      "model_module_version": "1.2.0",
      "model_name": "LayoutModel",
      "state": {
       "_model_module": "@jupyter-widgets/base",
       "_model_module_version": "1.2.0",
       "_model_name": "LayoutModel",
       "_view_count": null,
       "_view_module": "@jupyter-widgets/base",
       "_view_module_version": "1.2.0",
       "_view_name": "LayoutView",
       "align_content": null,
       "align_items": null,
       "align_self": null,
       "border": null,
       "bottom": null,
       "display": null,
       "flex": null,
       "flex_flow": null,
       "grid_area": null,
       "grid_auto_columns": null,
       "grid_auto_flow": null,
       "grid_auto_rows": null,
       "grid_column": null,
       "grid_gap": null,
       "grid_row": null,
       "grid_template_areas": null,
       "grid_template_columns": null,
       "grid_template_rows": null,
       "height": null,
       "justify_content": null,
       "justify_items": null,
       "left": null,
       "margin": null,
       "max_height": null,
       "max_width": null,
       "min_height": null,
       "min_width": null,
       "object_fit": null,
       "object_position": null,
       "order": null,
       "overflow": null,
       "overflow_x": null,
       "overflow_y": null,
       "padding": null,
       "right": null,
       "top": null,
       "visibility": null,
       "width": null
      }
     },
     "fbcf599eade144fdaf07e6a94d2b0e13": {
      "model_module": "@jupyter-widgets/base",
      "model_module_version": "1.2.0",
      "model_name": "LayoutModel",
      "state": {
       "_model_module": "@jupyter-widgets/base",
       "_model_module_version": "1.2.0",
       "_model_name": "LayoutModel",
       "_view_count": null,
       "_view_module": "@jupyter-widgets/base",
       "_view_module_version": "1.2.0",
       "_view_name": "LayoutView",
       "align_content": null,
       "align_items": null,
       "align_self": null,
       "border": null,
       "bottom": null,
       "display": null,
       "flex": null,
       "flex_flow": null,
       "grid_area": null,
       "grid_auto_columns": null,
       "grid_auto_flow": null,
       "grid_auto_rows": null,
       "grid_column": null,
       "grid_gap": null,
       "grid_row": null,
       "grid_template_areas": null,
       "grid_template_columns": null,
       "grid_template_rows": null,
       "height": null,
       "justify_content": null,
       "justify_items": null,
       "left": null,
       "margin": null,
       "max_height": null,
       "max_width": null,
       "min_height": null,
       "min_width": null,
       "object_fit": null,
       "object_position": null,
       "order": null,
       "overflow": null,
       "overflow_x": null,
       "overflow_y": null,
       "padding": null,
       "right": null,
       "top": null,
       "visibility": null,
       "width": null
      }
     },
     "fe378d80227e4d2c8464d0c0bd06beea": {
      "model_module": "@jupyter-widgets/controls",
      "model_module_version": "1.5.0",
      "model_name": "ProgressStyleModel",
      "state": {
       "_model_module": "@jupyter-widgets/controls",
       "_model_module_version": "1.5.0",
       "_model_name": "ProgressStyleModel",
       "_view_count": null,
       "_view_module": "@jupyter-widgets/base",
       "_view_module_version": "1.2.0",
       "_view_name": "StyleView",
       "bar_color": null,
       "description_width": ""
      }
     }
    },
    "version_major": 2,
    "version_minor": 0
   }
  }
 },
 "nbformat": 4,
 "nbformat_minor": 5
}
